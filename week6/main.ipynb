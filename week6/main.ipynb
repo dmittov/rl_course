{
 "cells": [
  {
   "cell_type": "code",
   "execution_count": 1,
   "metadata": {},
   "outputs": [],
   "source": [
    "%load_ext autoreload\n",
    "%autoreload 2"
   ]
  },
  {
   "cell_type": "code",
   "execution_count": 2,
   "metadata": {},
   "outputs": [],
   "source": [
    "%load_ext tensorboard"
   ]
  },
  {
   "cell_type": "code",
   "execution_count": 3,
   "metadata": {},
   "outputs": [
    {
     "name": "stderr",
     "output_type": "stream",
     "text": [
      "/opt/anaconda3/envs/week6/lib/python3.10/site-packages/torch/utils/tensorboard/__init__.py:4: DeprecationWarning: distutils Version classes are deprecated. Use packaging.version instead.\n",
      "  if not hasattr(tensorboard, '__version__') or LooseVersion(tensorboard.__version__) < LooseVersion('1.15'):\n"
     ]
    }
   ],
   "source": [
    "import gym\n",
    "from matplotlib import pyplot as plt\n",
    "from agents import *\n",
    "from tqdm.notebook import tqdm\n",
    "import numpy as np\n",
    "from wrappers import Recorder\n",
    "from torch.utils.tensorboard import SummaryWriter"
   ]
  },
  {
   "cell_type": "markdown",
   "metadata": {},
   "source": [
    "## Cart Pole\n",
    "\n",
    "[Description](https://github.com/openai/gym/blob/master/gym/envs/classic_control/cartpole.py)"
   ]
  },
  {
   "cell_type": "code",
   "execution_count": 4,
   "metadata": {},
   "outputs": [],
   "source": [
    "env = Recorder(gym.make(\"CartPole-v1\"))\n",
    "writer = SummaryWriter()"
   ]
  },
  {
   "cell_type": "code",
   "execution_count": 5,
   "metadata": {},
   "outputs": [
    {
     "data": {
      "text/plain": [
       "2"
      ]
     },
     "execution_count": 5,
     "metadata": {},
     "output_type": "execute_result"
    }
   ],
   "source": [
    "env.action_space.n"
   ]
  },
  {
   "cell_type": "code",
   "execution_count": 6,
   "metadata": {},
   "outputs": [
    {
     "data": {
      "text/plain": [
       "array([ 0.03574043, -0.04664144,  0.02296554, -0.03243444], dtype=float32)"
      ]
     },
     "execution_count": 6,
     "metadata": {},
     "output_type": "execute_result"
    }
   ],
   "source": [
    "env.reset()"
   ]
  },
  {
   "cell_type": "code",
   "execution_count": 9,
   "metadata": {},
   "outputs": [],
   "source": [
    "network = ApproxQLearningNetwork(n_features=4, n_actions=2, hidden_dimensions=128)\n",
    "optimizer = torch.optim.Adam(network.parameters(), lr=1e-4)\n",
    "deep_q_agent = ApproxQAgent(network, optimizer, eps=0.05)"
   ]
  },
  {
   "cell_type": "code",
   "execution_count": 10,
   "metadata": {},
   "outputs": [
    {
     "data": {
      "application/vnd.jupyter.widget-view+json": {
       "model_id": "847e8e0f4b424a108948ae37eff5b876",
       "version_major": 2,
       "version_minor": 0
      },
      "text/plain": [
       "  0%|          | 0/100000 [00:00<?, ?it/s]"
      ]
     },
     "metadata": {},
     "output_type": "display_data"
    },
    {
     "ename": "KeyboardInterrupt",
     "evalue": "",
     "output_type": "error",
     "traceback": [
      "\u001b[0;31m---------------------------------------------------------------------------\u001b[0m",
      "\u001b[0;31mKeyboardInterrupt\u001b[0m                         Traceback (most recent call last)",
      "\u001b[1;32m/Users/dmitrymittov/Documents/rl_course/week6/main.ipynb Cell 8'\u001b[0m in \u001b[0;36m<cell line: 2>\u001b[0;34m()\u001b[0m\n\u001b[1;32m     <a href='vscode-notebook-cell:/Users/dmitrymittov/Documents/rl_course/week6/main.ipynb#ch0000007?line=21'>22</a>\u001b[0m \u001b[39mfor\u001b[39;00m batch_ptr \u001b[39min\u001b[39;00m \u001b[39mrange\u001b[39m(\u001b[39m0\u001b[39m, \u001b[39mlen\u001b[39m(episodes), batch_sz):\n\u001b[1;32m     <a href='vscode-notebook-cell:/Users/dmitrymittov/Documents/rl_course/week6/main.ipynb#ch0000007?line=22'>23</a>\u001b[0m     batch \u001b[39m=\u001b[39m episodes[batch_ptr:batch_ptr \u001b[39m+\u001b[39m batch_sz]\n\u001b[0;32m---> <a href='vscode-notebook-cell:/Users/dmitrymittov/Documents/rl_course/week6/main.ipynb#ch0000007?line=23'>24</a>\u001b[0m     loss \u001b[39m=\u001b[39m deep_q_agent\u001b[39m.\u001b[39;49mtrain_on_batch(batch)\n\u001b[1;32m     <a href='vscode-notebook-cell:/Users/dmitrymittov/Documents/rl_course/week6/main.ipynb#ch0000007?line=24'>25</a>\u001b[0m     writer\u001b[39m.\u001b[39madd_scalar(\u001b[39m\"\u001b[39m\u001b[39mLoss/train\u001b[39m\u001b[39m\"\u001b[39m, loss, batch_num)\n\u001b[1;32m     <a href='vscode-notebook-cell:/Users/dmitrymittov/Documents/rl_course/week6/main.ipynb#ch0000007?line=25'>26</a>\u001b[0m     batch_num \u001b[39m+\u001b[39m\u001b[39m=\u001b[39m \u001b[39m1\u001b[39m\n",
      "File \u001b[0;32m~/Documents/rl_course/week6/agents.py:85\u001b[0m, in \u001b[0;36mApproxQAgent.train_on_batch\u001b[0;34m(self, batch)\u001b[0m\n\u001b[1;32m     <a href='file:///Users/dmitrymittov/Documents/rl_course/week6/agents.py?line=82'>83</a>\u001b[0m \u001b[39mself\u001b[39m\u001b[39m.\u001b[39moptimizer\u001b[39m.\u001b[39mzero_grad()\n\u001b[1;32m     <a href='file:///Users/dmitrymittov/Documents/rl_course/week6/agents.py?line=83'>84</a>\u001b[0m t_current_q_values \u001b[39m=\u001b[39m \u001b[39mself\u001b[39m\u001b[39m.\u001b[39m__get_current_q_values(batch)\n\u001b[0;32m---> <a href='file:///Users/dmitrymittov/Documents/rl_course/week6/agents.py?line=84'>85</a>\u001b[0m t_experience_q_values \u001b[39m=\u001b[39m \u001b[39mself\u001b[39;49m\u001b[39m.\u001b[39;49m__get_experince_q_values(batch)\n\u001b[1;32m     <a href='file:///Users/dmitrymittov/Documents/rl_course/week6/agents.py?line=85'>86</a>\u001b[0m t_loss \u001b[39m=\u001b[39m F\u001b[39m.\u001b[39mmse_loss(t_experience_q_values, t_current_q_values)\n\u001b[1;32m     <a href='file:///Users/dmitrymittov/Documents/rl_course/week6/agents.py?line=86'>87</a>\u001b[0m t_loss\u001b[39m.\u001b[39mbackward()\n",
      "File \u001b[0;32m~/Documents/rl_course/week6/agents.py:61\u001b[0m, in \u001b[0;36mApproxQAgent.__get_experince_q_values\u001b[0;34m(self, batch)\u001b[0m\n\u001b[1;32m     <a href='file:///Users/dmitrymittov/Documents/rl_course/week6/agents.py?line=59'>60</a>\u001b[0m \u001b[39mdef\u001b[39;00m \u001b[39m__get_experince_q_values\u001b[39m(\u001b[39mself\u001b[39m, batch: List[Episode]):\n\u001b[0;32m---> <a href='file:///Users/dmitrymittov/Documents/rl_course/week6/agents.py?line=60'>61</a>\u001b[0m     next_states \u001b[39m=\u001b[39m np\u001b[39m.\u001b[39;49mvstack([episode\u001b[39m.\u001b[39;49mnext_state \u001b[39mfor\u001b[39;49;00m episode \u001b[39min\u001b[39;49;00m batch])\n\u001b[1;32m     <a href='file:///Users/dmitrymittov/Documents/rl_course/week6/agents.py?line=61'>62</a>\u001b[0m     t_next_states \u001b[39m=\u001b[39m torch\u001b[39m.\u001b[39mTensor(next_states)\n\u001b[1;32m     <a href='file:///Users/dmitrymittov/Documents/rl_course/week6/agents.py?line=62'>63</a>\u001b[0m     rewards \u001b[39m=\u001b[39m np\u001b[39m.\u001b[39marray([episode\u001b[39m.\u001b[39mreward \u001b[39mfor\u001b[39;00m episode \u001b[39min\u001b[39;00m batch])\n",
      "File \u001b[0;32m<__array_function__ internals>:180\u001b[0m, in \u001b[0;36mvstack\u001b[0;34m(*args, **kwargs)\u001b[0m\n",
      "File \u001b[0;32m/opt/anaconda3/envs/week6/lib/python3.10/site-packages/numpy/core/shape_base.py:279\u001b[0m, in \u001b[0;36mvstack\u001b[0;34m(tup)\u001b[0m\n\u001b[1;32m    <a href='file:///opt/anaconda3/envs/week6/lib/python3.10/site-packages/numpy/core/shape_base.py?line=275'>276</a>\u001b[0m \u001b[39mif\u001b[39;00m \u001b[39mnot\u001b[39;00m overrides\u001b[39m.\u001b[39mARRAY_FUNCTION_ENABLED:\n\u001b[1;32m    <a href='file:///opt/anaconda3/envs/week6/lib/python3.10/site-packages/numpy/core/shape_base.py?line=276'>277</a>\u001b[0m     \u001b[39m# raise warning if necessary\u001b[39;00m\n\u001b[1;32m    <a href='file:///opt/anaconda3/envs/week6/lib/python3.10/site-packages/numpy/core/shape_base.py?line=277'>278</a>\u001b[0m     _arrays_for_stack_dispatcher(tup, stacklevel\u001b[39m=\u001b[39m\u001b[39m2\u001b[39m)\n\u001b[0;32m--> <a href='file:///opt/anaconda3/envs/week6/lib/python3.10/site-packages/numpy/core/shape_base.py?line=278'>279</a>\u001b[0m arrs \u001b[39m=\u001b[39m atleast_2d(\u001b[39m*\u001b[39;49mtup)\n\u001b[1;32m    <a href='file:///opt/anaconda3/envs/week6/lib/python3.10/site-packages/numpy/core/shape_base.py?line=279'>280</a>\u001b[0m \u001b[39mif\u001b[39;00m \u001b[39mnot\u001b[39;00m \u001b[39misinstance\u001b[39m(arrs, \u001b[39mlist\u001b[39m):\n\u001b[1;32m    <a href='file:///opt/anaconda3/envs/week6/lib/python3.10/site-packages/numpy/core/shape_base.py?line=280'>281</a>\u001b[0m     arrs \u001b[39m=\u001b[39m [arrs]\n",
      "File \u001b[0;32m<__array_function__ internals>:180\u001b[0m, in \u001b[0;36matleast_2d\u001b[0;34m(*args, **kwargs)\u001b[0m\n",
      "File \u001b[0;32m/opt/anaconda3/envs/week6/lib/python3.10/site-packages/numpy/core/shape_base.py:122\u001b[0m, in \u001b[0;36matleast_2d\u001b[0;34m(*arys)\u001b[0m\n\u001b[1;32m    <a href='file:///opt/anaconda3/envs/week6/lib/python3.10/site-packages/numpy/core/shape_base.py?line=119'>120</a>\u001b[0m \u001b[39mfor\u001b[39;00m ary \u001b[39min\u001b[39;00m arys:\n\u001b[1;32m    <a href='file:///opt/anaconda3/envs/week6/lib/python3.10/site-packages/numpy/core/shape_base.py?line=120'>121</a>\u001b[0m     ary \u001b[39m=\u001b[39m asanyarray(ary)\n\u001b[0;32m--> <a href='file:///opt/anaconda3/envs/week6/lib/python3.10/site-packages/numpy/core/shape_base.py?line=121'>122</a>\u001b[0m     \u001b[39mif\u001b[39;00m ary\u001b[39m.\u001b[39mndim \u001b[39m==\u001b[39m \u001b[39m0\u001b[39m:\n\u001b[1;32m    <a href='file:///opt/anaconda3/envs/week6/lib/python3.10/site-packages/numpy/core/shape_base.py?line=122'>123</a>\u001b[0m         result \u001b[39m=\u001b[39m ary\u001b[39m.\u001b[39mreshape(\u001b[39m1\u001b[39m, \u001b[39m1\u001b[39m)\n\u001b[1;32m    <a href='file:///opt/anaconda3/envs/week6/lib/python3.10/site-packages/numpy/core/shape_base.py?line=123'>124</a>\u001b[0m     \u001b[39melif\u001b[39;00m ary\u001b[39m.\u001b[39mndim \u001b[39m==\u001b[39m \u001b[39m1\u001b[39m:\n",
      "\u001b[0;31mKeyboardInterrupt\u001b[0m: "
     ]
    }
   ],
   "source": [
    "batch_num = 0.\n",
    "for epoch in tqdm(range(100_000)):\n",
    "    total_reward = 0.\n",
    "    n_games = 10\n",
    "    n_wins = 0\n",
    "    episodes: List[Episode] = []\n",
    "    for game_id in range(n_games):\n",
    "        state = env.reset()\n",
    "        is_done = False\n",
    "        game_reward = 0\n",
    "        while not is_done:\n",
    "            action = deep_q_agent.act(state, greedy=False)\n",
    "            state, reward, is_done, info = env.step(action)\n",
    "            game_reward += reward\n",
    "        if game_reward > 200:\n",
    "            n_wins += 1\n",
    "        total_reward += game_reward\n",
    "        episodes.extend(env.get_record())\n",
    "    writer.add_scalar(\"Game/wins_out_of_10\", n_wins, epoch)\n",
    "    np.random.shuffle(episodes)\n",
    "    batch_sz = 128\n",
    "    for batch_ptr in range(0, len(episodes), batch_sz):\n",
    "        batch = episodes[batch_ptr:batch_ptr + batch_sz]\n",
    "        loss = deep_q_agent.train_on_batch(batch)\n",
    "        writer.add_scalar(\"Loss/train\", loss, batch_num)\n",
    "        batch_num += 1\n",
    "    writer.add_scalar(\"Avg/reward\", total_reward / n_games, epoch)\n"
   ]
  },
  {
   "cell_type": "code",
   "execution_count": 8,
   "metadata": {},
   "outputs": [
    {
     "data": {
      "text/plain": [
       "135"
      ]
     },
     "execution_count": 8,
     "metadata": {},
     "output_type": "execute_result"
    }
   ],
   "source": [
    "len(env.get_record())"
   ]
  },
  {
   "cell_type": "code",
   "execution_count": null,
   "metadata": {},
   "outputs": [],
   "source": []
  }
 ],
 "metadata": {
  "interpreter": {
   "hash": "562b16430c1fcd8fd904a0fcb9b99ac7851cb7f63440b93af00f39dda06edd92"
  },
  "kernelspec": {
   "display_name": "Python 3.10.4 ('week6')",
   "language": "python",
   "name": "python3"
  },
  "language_info": {
   "codemirror_mode": {
    "name": "ipython",
    "version": 3
   },
   "file_extension": ".py",
   "mimetype": "text/x-python",
   "name": "python",
   "nbconvert_exporter": "python",
   "pygments_lexer": "ipython3",
   "version": "3.10.4"
  },
  "orig_nbformat": 4
 },
 "nbformat": 4,
 "nbformat_minor": 2
}
