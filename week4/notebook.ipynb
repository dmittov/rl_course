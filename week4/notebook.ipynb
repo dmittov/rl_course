{
 "cells": [
  {
   "cell_type": "code",
   "execution_count": 1,
   "metadata": {},
   "outputs": [],
   "source": [
    "%load_ext autoreload\n",
    "%autoreload 2"
   ]
  },
  {
   "cell_type": "code",
   "execution_count": 2,
   "metadata": {},
   "outputs": [],
   "source": [
    "from task_4_9 import *\n",
    "from matplotlib import pyplot as plt\n",
    "from tqdm.notebook import tqdm"
   ]
  },
  {
   "cell_type": "code",
   "execution_count": 20,
   "metadata": {},
   "outputs": [],
   "source": [
    "env = Environment(bank=10, target=100, p=0.4)\n",
    "my_agent = Agent(env, eps=0.1)\n",
    "my_agent.fit()\n",
    "\n",
    "book_policy = [\n",
    "    1, 2, 3, 4, 5, 6, 7, 8, 9, 10, 11, 12, 12, 11, 10, 9, 8, 18, 6, 5, 4, 3, 23, 1, 25,\n",
    "    1, 2, 3, 4, 5, 6, 7, 8, 9, 10, 11, 12, 12, 11, 10, 9, 8, 43, 6, 45, 4, 3, 2, 1, 50,\n",
    "    1, 2, 3, 46, 5, 6, 43, 8, 9, 10, 11, 12, 12, 11, 10, 9, 17, 18, 6, 5, 4, 3, 27, 1, 25,\n",
    "    24, 23, 3, 4, 5, 6, 7, 8, 9, 10, 11, 12, 12, 11, 10, 9, 8, 7, 6, 5, 4, 3, 2, 1,\n",
    "\n",
    "]\n",
    "book_agent = Agent(env, greedy_actions=np.array([0] + book_policy + [0]))"
   ]
  },
  {
   "cell_type": "code",
   "execution_count": 30,
   "metadata": {},
   "outputs": [
    {
     "data": {
      "text/plain": [
       "Text(0.5, 1.0, 'Book Policy')"
      ]
     },
     "execution_count": 30,
     "metadata": {},
     "output_type": "execute_result"
    },
    {
     "data": {
      "image/png": "[encoded data removed]",
      "text/plain": [
       "<Figure size 936x216 with 2 Axes>"
      ]
     },
     "metadata": {
      "needs_background": "light"
     },
     "output_type": "display_data"
    }
   ],
   "source": [
    "fix, axs = plt.subplots(1, 2, figsize=(13, 3))\n",
    "axs[0].scatter(x=range(1, env.target), y=my_agent.greedy_actions[1:-1])\n",
    "axs[0].set_title(\"My Policy\")\n",
    "axs[1].scatter(x=range(1, env.target), y=book_agent.greedy_actions[1:-1])\n",
    "axs[1].set_title(\"Book Policy\")"
   ]
  },
  {
   "cell_type": "code",
   "execution_count": 34,
   "metadata": {},
   "outputs": [
    {
     "data": {
      "text/plain": [
       "(24, 1)"
      ]
     },
     "execution_count": 34,
     "metadata": {},
     "output_type": "execute_result"
    }
   ],
   "source": [
    "my_agent.greedy_actions[24], book_agent.greedy_actions[24]"
   ]
  },
  {
   "cell_type": "code",
   "execution_count": 40,
   "metadata": {},
   "outputs": [
    {
     "data": {
      "application/vnd.jupyter.widget-view+json": {
       "model_id": "f8d7475c357a4b9bb57e567a824a5eba",
       "version_major": 2,
       "version_minor": 0
      },
      "text/plain": [
       "  0%|          | 0/1000000 [00:00<?, ?it/s]"
      ]
     },
     "metadata": {},
     "output_type": "display_data"
    },
    {
     "name": "stdout",
     "output_type": "stream",
     "text": [
      "My wins: 144465, book wins: 143959\n"
     ]
    }
   ],
   "source": [
    "env = Environment(bank=24, target=100, p=0.4)\n",
    "games = 1_000_000\n",
    "my_rewards = 0\n",
    "book_rewards = 0\n",
    "for game in tqdm(range(games)):\n",
    "    env.reset()\n",
    "    state = State(reward=0., is_done=False, bank=env.bank)\n",
    "    while not state.is_done:\n",
    "        stake = my_agent.act(state.bank)\n",
    "        state = env.step(stake)\n",
    "    my_rewards += state.reward\n",
    "    env.reset()\n",
    "    state = State(reward=0., is_done=False, bank=env.bank)\n",
    "    while not state.is_done:\n",
    "        stake = book_agent.act(state.bank)\n",
    "        state = env.step(stake)\n",
    "    book_rewards += state.reward\n",
    "print(f\"My wins: {my_rewards}, book wins: {book_rewards}\")"
   ]
  },
  {
   "cell_type": "code",
   "execution_count": 42,
   "metadata": {},
   "outputs": [
    {
     "data": {
      "application/vnd.jupyter.widget-view+json": {
       "model_id": "b638d41973d14149b29c138ccf87cdee",
       "version_major": 2,
       "version_minor": 0
      },
      "text/plain": [
       "  0%|          | 0/99 [00:00<?, ?it/s]"
      ]
     },
     "metadata": {},
     "output_type": "display_data"
    },
    {
     "ename": "KeyboardInterrupt",
     "evalue": "",
     "output_type": "error",
     "traceback": [
      "\u001b[0;31m---------------------------------------------------------------------------\u001b[0m",
      "\u001b[0;31mKeyboardInterrupt\u001b[0m                         Traceback (most recent call last)",
      "\u001b[1;32m/Users/dmitry/Documents/rl_course/week4/notebook.ipynb Cell 7'\u001b[0m in \u001b[0;36m<cell line: 2>\u001b[0;34m()\u001b[0m\n\u001b[1;32m     <a href='vscode-notebook-cell:/Users/dmitry/Documents/rl_course/week4/notebook.ipynb#ch0000021?line=14'>15</a>\u001b[0m     \u001b[39mwhile\u001b[39;00m \u001b[39mnot\u001b[39;00m state\u001b[39m.\u001b[39mis_done:\n\u001b[1;32m     <a href='vscode-notebook-cell:/Users/dmitry/Documents/rl_course/week4/notebook.ipynb#ch0000021?line=15'>16</a>\u001b[0m         stake \u001b[39m=\u001b[39m book_agent\u001b[39m.\u001b[39mact(state\u001b[39m.\u001b[39mbank)\n\u001b[0;32m---> <a href='vscode-notebook-cell:/Users/dmitry/Documents/rl_course/week4/notebook.ipynb#ch0000021?line=16'>17</a>\u001b[0m         state \u001b[39m=\u001b[39m env\u001b[39m.\u001b[39;49mstep(stake)\n\u001b[1;32m     <a href='vscode-notebook-cell:/Users/dmitry/Documents/rl_course/week4/notebook.ipynb#ch0000021?line=17'>18</a>\u001b[0m     book_rewards \u001b[39m+\u001b[39m\u001b[39m=\u001b[39m state\u001b[39m.\u001b[39mreward\n\u001b[1;32m     <a href='vscode-notebook-cell:/Users/dmitry/Documents/rl_course/week4/notebook.ipynb#ch0000021?line=18'>19</a>\u001b[0m \u001b[39mif\u001b[39;00m my_rewards \u001b[39m>\u001b[39m\u001b[39m=\u001b[39m book_rewards:\n",
      "File \u001b[0;32m~/Documents/rl_course/week4/task_4_9.py:40\u001b[0m, in \u001b[0;36mEnvironment.step\u001b[0;34m(self, stake)\u001b[0m\n\u001b[1;32m     <a href='file:///Users/dmitry/Documents/rl_course/week4/task_4_9.py?line=37'>38</a>\u001b[0m     state\u001b[39m.\u001b[39mis_done \u001b[39m=\u001b[39m \u001b[39mTrue\u001b[39;00m\n\u001b[1;32m     <a href='file:///Users/dmitry/Documents/rl_course/week4/task_4_9.py?line=38'>39</a>\u001b[0m     state\u001b[39m.\u001b[39mreward \u001b[39m=\u001b[39m \u001b[39m1\u001b[39m\n\u001b[0;32m---> <a href='file:///Users/dmitry/Documents/rl_course/week4/task_4_9.py?line=39'>40</a>\u001b[0m \u001b[39melif\u001b[39;00m \u001b[39mself\u001b[39;49m\u001b[39m.\u001b[39;49mbank \u001b[39m<\u001b[39;49m\u001b[39m=\u001b[39;49m \u001b[39m0\u001b[39;49m:\n\u001b[1;32m     <a href='file:///Users/dmitry/Documents/rl_course/week4/task_4_9.py?line=40'>41</a>\u001b[0m     state\u001b[39m.\u001b[39mis_done \u001b[39m=\u001b[39m \u001b[39mTrue\u001b[39;00m\n\u001b[1;32m     <a href='file:///Users/dmitry/Documents/rl_course/week4/task_4_9.py?line=41'>42</a>\u001b[0m     state\u001b[39m.\u001b[39mreward \u001b[39m=\u001b[39m \u001b[39m0\u001b[39m\n",
      "\u001b[0;31mKeyboardInterrupt\u001b[0m: "
     ]
    }
   ],
   "source": [
    "wins = 0.\n",
    "for bank in tqdm(range(1, 100)):\n",
    "    env = Environment(bank=bank, target=100, p=0.4)\n",
    "    my_rewards = book_rewards = 0.\n",
    "    games = 100_000\n",
    "    for ix in range(games):\n",
    "        env.reset()\n",
    "        state = State(reward=0., is_done=False, bank=env.bank)\n",
    "        while not state.is_done:\n",
    "            stake = my_agent.act(state.bank)\n",
    "            state = env.step(stake)\n",
    "        my_rewards += state.reward\n",
    "        env.reset()\n",
    "        state = State(reward=0., is_done=False, bank=env.bank)\n",
    "        while not state.is_done:\n",
    "            stake = book_agent.act(state.bank)\n",
    "            state = env.step(stake)\n",
    "        book_rewards += state.reward\n",
    "    if my_rewards > book_rewards:\n",
    "        wins += 1.\n",
    "    else:\n",
    "        wins -= 1.\n",
    "print(wins)"
   ]
  },
  {
   "cell_type": "code",
   "execution_count": null,
   "metadata": {},
   "outputs": [],
   "source": [
    "env = Environment(bank=18, target=100, p=0.4)\n",
    "rewards = 0.\n",
    "games = 1_000_000\n",
    "for ix in tqdm(range(games)):\n",
    "    env.reset()\n",
    "    state = State(reward=0., is_done=False, bank=env.bank)\n",
    "    while not state.is_done:\n",
    "        stake = my_agent.act(state.bank)\n",
    "        state = env.step(stake)\n",
    "    rewards += state.reward\n",
    "print(rewards / games)"
   ]
  },
  {
   "cell_type": "code",
   "execution_count": null,
   "metadata": {},
   "outputs": [],
   "source": [
    "env = Environment(bank=18, target=100, p=0.4)\n",
    "rewards = 0.\n",
    "games = 1_000_000\n",
    "for ix in tqdm(range(games)):\n",
    "    env.reset()\n",
    "    state = State(reward=0., is_done=False, bank=env.bank)\n",
    "    while not state.is_done:\n",
    "        stake = book_agent.act(state.bank)\n",
    "        state = env.step(stake)\n",
    "    rewards += state.reward\n",
    "print(rewards / games)"
   ]
  },
  {
   "cell_type": "code",
   "execution_count": null,
   "metadata": {},
   "outputs": [],
   "source": [
    "plt.scatter(x=range(1, env.target), y=agent.greedy_actions[1:-1])"
   ]
  },
  {
   "cell_type": "code",
   "execution_count": null,
   "metadata": {},
   "outputs": [],
   "source": [
    "agent.greedy_actions"
   ]
  },
  {
   "cell_type": "code",
   "execution_count": 3,
   "metadata": {},
   "outputs": [],
   "source": [
    "def train(ph=0.4, Theta=0.000001):\n",
    "    V = [0]*100\n",
    "    for i in range(0, 100):\n",
    "        V[i] = np.random.random() * 1000\n",
    "    V[0] = 0\n",
    "    pi = [0]*100\n",
    "    counter = 1\n",
    "    while True:\n",
    "        Delta = 0\n",
    "        for s in range(1, 100):  # for each state\n",
    "            old_v = V[s]\n",
    "            v = [0] * 51\n",
    "            for a in range(1, min(s, 100 - s) + 1):\n",
    "                v[a] = 0\n",
    "                if a + s < 100:\n",
    "                    v[a] += ph * (0 + V[s + a])\n",
    "                    v[a] += (1 - ph) * (0 + V[s - a])\n",
    "                elif a + s == 100:\n",
    "                    v[a] += ph\n",
    "                    v[a] += (1 - ph) * (0 + V[s - a])\n",
    "            op_a = np.argmax(v)\n",
    "            pi[s] = op_a\n",
    "            V[s] = v[op_a]\n",
    "            Delta = max(Delta, abs(old_v - V[s]))\n",
    "        counter += 1\n",
    "        if counter % 1000 == 0:\n",
    "            print(\"train loop\" + str(counter))\n",
    "            print(\"Delta =\" + str(Delta))\n",
    "        if Delta < Theta:\n",
    "            break\n",
    "    return [V[1:100], pi[1:100]]\n",
    "\n",
    "v, pi = train()"
   ]
  },
  {
   "cell_type": "code",
   "execution_count": null,
   "metadata": {},
   "outputs": [],
   "source": [
    "len(pi)"
   ]
  },
  {
   "cell_type": "code",
   "execution_count": null,
   "metadata": {},
   "outputs": [],
   "source": [
    "plt.bar(x=range(1, env.target), height=pi)"
   ]
  },
  {
   "cell_type": "code",
   "execution_count": null,
   "metadata": {},
   "outputs": [],
   "source": [
    "plt.bar(x=range(1, env.target), height=agent.greedy_actions[1:-1])"
   ]
  },
  {
   "cell_type": "code",
   "execution_count": null,
   "metadata": {},
   "outputs": [],
   "source": [
    "env = Environment(bank=10, target=100, p=0.25)\n",
    "agent = Agent(env)\n",
    "agent.fit()\n",
    "plt.plot(range(1, 100), agent.greedy_actions[1:-1])"
   ]
  },
  {
   "cell_type": "code",
   "execution_count": null,
   "metadata": {},
   "outputs": [],
   "source": [
    "help(plt.plot)"
   ]
  },
  {
   "cell_type": "code",
   "execution_count": 8,
   "metadata": {},
   "outputs": [
    {
     "data": {
      "text/plain": [
       "<BarContainer object of 99 artists>"
      ]
     },
     "execution_count": 8,
     "metadata": {},
     "output_type": "execute_result"
    },
    {
     "data": {
      "image/png": "[encoded data removed]",
      "text/plain": [
       "<Figure size 432x288 with 1 Axes>"
      ]
     },
     "metadata": {
      "needs_background": "light"
     },
     "output_type": "display_data"
    }
   ],
   "source": [
    "plt.bar(x = np.arange(len(pi)), height=pi)"
   ]
  },
  {
   "cell_type": "code",
   "execution_count": 9,
   "metadata": {},
   "outputs": [
    {
     "data": {
      "text/plain": [
       "[1,\n",
       " 2,\n",
       " 3,\n",
       " 4,\n",
       " 5,\n",
       " 6,\n",
       " 7,\n",
       " 8,\n",
       " 9,\n",
       " 10,\n",
       " 11,\n",
       " 12,\n",
       " 12,\n",
       " 11,\n",
       " 10,\n",
       " 9,\n",
       " 8,\n",
       " 18,\n",
       " 6,\n",
       " 5,\n",
       " 4,\n",
       " 3,\n",
       " 23,\n",
       " 1,\n",
       " 25,\n",
       " 1,\n",
       " 2,\n",
       " 3,\n",
       " 4,\n",
       " 5,\n",
       " 6,\n",
       " 7,\n",
       " 8,\n",
       " 9,\n",
       " 10,\n",
       " 11,\n",
       " 12,\n",
       " 12,\n",
       " 11,\n",
       " 10,\n",
       " 9,\n",
       " 8,\n",
       " 43,\n",
       " 6,\n",
       " 45,\n",
       " 4,\n",
       " 3,\n",
       " 2,\n",
       " 1,\n",
       " 50,\n",
       " 1,\n",
       " 2,\n",
       " 3,\n",
       " 46,\n",
       " 5,\n",
       " 6,\n",
       " 43,\n",
       " 8,\n",
       " 9,\n",
       " 10,\n",
       " 11,\n",
       " 12,\n",
       " 12,\n",
       " 11,\n",
       " 10,\n",
       " 9,\n",
       " 17,\n",
       " 18,\n",
       " 6,\n",
       " 5,\n",
       " 4,\n",
       " 3,\n",
       " 27,\n",
       " 1,\n",
       " 25,\n",
       " 24,\n",
       " 23,\n",
       " 3,\n",
       " 4,\n",
       " 5,\n",
       " 6,\n",
       " 7,\n",
       " 8,\n",
       " 9,\n",
       " 10,\n",
       " 11,\n",
       " 12,\n",
       " 12,\n",
       " 11,\n",
       " 10,\n",
       " 9,\n",
       " 8,\n",
       " 7,\n",
       " 6,\n",
       " 5,\n",
       " 4,\n",
       " 3,\n",
       " 2,\n",
       " 1]"
      ]
     },
     "execution_count": 9,
     "metadata": {},
     "output_type": "execute_result"
    }
   ],
   "source": [
    "pi"
   ]
  },
  {
   "cell_type": "code",
   "execution_count": null,
   "metadata": {},
   "outputs": [],
   "source": []
  }
 ],
 "metadata": {
  "interpreter": {
   "hash": "f243dd80c3097446c25742a538fdd875c8f9cfdd340748e5beead23e50456699"
  },
  "kernelspec": {
   "display_name": "Python 3.9.12 ('week4')",
   "language": "python",
   "name": "python3"
  },
  "language_info": {
   "codemirror_mode": {
    "name": "ipython",
    "version": 3
   },
   "file_extension": ".py",
   "mimetype": "text/x-python",
   "name": "python",
   "nbconvert_exporter": "python",
   "pygments_lexer": "ipython3",
   "version": "3.9.12"
  },
  "orig_nbformat": 4
 },
 "nbformat": 4,
 "nbformat_minor": 2
}
