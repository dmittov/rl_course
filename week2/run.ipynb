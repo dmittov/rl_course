{
 "cells": [
  {
   "cell_type": "code",
   "execution_count": null,
   "metadata": {},
   "outputs": [],
   "source": [
    "%load_ext autoreload\n",
    "%autoreload 2"
   ]
  },
  {
   "cell_type": "code",
   "execution_count": null,
   "metadata": {},
   "outputs": [],
   "source": [
    "from matplotlib import pyplot as plt\n",
    "from world import World\n",
    "from agents import *\n",
    "import numpy as np\n",
    "from tqdm.notebook import tqdm"
   ]
  },
  {
   "cell_type": "code",
   "execution_count": null,
   "metadata": {},
   "outputs": [],
   "source": [
    "k = 10\n",
    "world = World(k)"
   ]
  },
  {
   "cell_type": "code",
   "execution_count": null,
   "metadata": {},
   "outputs": [],
   "source": [
    "agents = (\n",
    "    RandomAgent(k),\n",
    "    ThompsonAgent(k),\n",
    "    GradientAgent(k, 0.1),\n",
    "    GradientAgent(k, 0.3),\n",
    "    UCBAgent(k),\n",
    "    EpsilonGreedy(k),\n",
    ")\n",
    "labels = (\n",
    "    \"random\",\n",
    "    \"thompson\",\n",
    "    \"gradient alpha=0.1\",\n",
    "    \"gradient alpha=0.3\",\n",
    "    \"UCB\",\n",
    "    \"eps-greedy eps=0.1\",\n",
    ")\n",
    "rewards = [[] for _ in range(len(agents))]\n",
    "\n",
    "steps = 1_000\n",
    "for step in tqdm(range(steps)):\n",
    "    for agent, reward_history in zip(agents,rewards):\n",
    "        action = agent.act()\n",
    "        _, reward, _, _ = world.step(action)\n",
    "        reward_history.append(reward)\n",
    "        agent.update(action, reward)\n",
    "\n",
    "avg_rewards = [np.cumsum(reward_history) / np.arange(1, steps + 1) for reward_history in rewards]"
   ]
  },
  {
   "cell_type": "code",
   "execution_count": null,
   "metadata": {},
   "outputs": [],
   "source": [
    "for avg_reward,label in zip(avg_rewards,labels):\n",
    "    plt.plot(avg_reward, label=label)\n",
    "_ = plt.legend()"
   ]
  },
  {
   "cell_type": "code",
   "execution_count": null,
   "metadata": {},
   "outputs": [],
   "source": [
    "for avg_reward,label in zip(avg_rewards,labels):\n",
    "    plt.plot(avg_reward[20:], label=label)\n",
    "_ = plt.legend()"
   ]
  }
 ],
 "metadata": {
  "interpreter": {
   "hash": "55ff97e7ab7f0f5980c1024b2db391db680d31a5b763a9bc32ab30fc65115a66"
  },
  "kernelspec": {
   "display_name": "Python 3 (ipykernel)",
   "language": "python",
   "name": "python3"
  },
  "language_info": {
   "codemirror_mode": {
    "name": "ipython",
    "version": 3
   },
   "file_extension": ".py",
   "mimetype": "text/x-python",
   "name": "python",
   "nbconvert_exporter": "python",
   "pygments_lexer": "ipython3",
   "version": "3.10.4"
  }
 },
 "nbformat": 4,
 "nbformat_minor": 2
}
