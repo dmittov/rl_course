{
 "cells": [
  {
   "cell_type": "code",
   "execution_count": null,
   "metadata": {},
   "outputs": [],
   "source": [
    "%load_ext autoreload\n",
    "%autoreload 2"
   ]
  },
  {
   "cell_type": "code",
   "execution_count": null,
   "metadata": {},
   "outputs": [],
   "source": [
    "from matplotlib import pyplot as plt\n",
    "from world import World\n",
    "from agents import RandomAgent, ThompsonAgent, UCBAgent\n",
    "import numpy as np"
   ]
  },
  {
   "cell_type": "code",
   "execution_count": null,
   "metadata": {},
   "outputs": [],
   "source": [
    "k = 10\n",
    "world = World(k)"
   ]
  },
  {
   "cell_type": "code",
   "execution_count": null,
   "metadata": {},
   "outputs": [],
   "source": [
    "random_agent_rewards = []\n",
    "ucb_agent_rewards = []\n",
    "thompson_agent_rewards = []\n",
    "ucb_agent = UCBAgent(k)\n",
    "random_agent = RandomAgent(k)\n",
    "thompson_agent = ThompsonAgent(k)\n",
    "steps = 1_000\n",
    "for step in range(steps):\n",
    "    \n",
    "    action = random_agent.act()\n",
    "    _, reward, _, _ = world.step(action)\n",
    "    random_agent_rewards.append(reward)\n",
    "    random_agent.update(action, reward)\n",
    "\n",
    "    action = ucb_agent.act()\n",
    "    _, reward, _, _ = world.step(action)\n",
    "    ucb_agent_rewards.append(reward)\n",
    "    ucb_agent.update(action, reward)\n",
    "\n",
    "    action = thompson_agent.act()\n",
    "    _, reward, _, _ = world.step(action)\n",
    "    thompson_agent_rewards.append(reward)\n",
    "    thompson_agent.update(action, reward)\n",
    "\n",
    "avg_random_agent_rewards = np.cumsum(random_agent_rewards) / np.arange(1, steps + 1)\n",
    "avg_ucb_agent_rewards = np.cumsum(ucb_agent_rewards) / np.arange(1, steps + 1)\n",
    "avg_thompson_agent_rewards = np.cumsum(thompson_agent_rewards) / np.arange(1, steps + 1)"
   ]
  },
  {
   "cell_type": "code",
   "execution_count": null,
   "metadata": {},
   "outputs": [],
   "source": [
    "plt.plot(avg_random_agent_rewards, label=\"random\")\n",
    "plt.plot(avg_ucb_agent_rewards, label=\"ucb\")\n",
    "plt.plot(avg_thompson_agent_rewards, label=\"thompson\")\n",
    "plt.legend()"
   ]
  },
  {
   "cell_type": "code",
   "execution_count": null,
   "metadata": {},
   "outputs": [],
   "source": [
    "plt.plot(avg_random_agent_rewards[20:], label=\"random\")\n",
    "plt.plot(avg_ucb_agent_rewards[20:], label=\"ucb\")\n",
    "plt.plot(avg_thompson_agent_rewards[20:], label=\"thompson\")\n",
    "plt.legend()"
   ]
  }
 ],
 "metadata": {
  "interpreter": {
   "hash": "55ff97e7ab7f0f5980c1024b2db391db680d31a5b763a9bc32ab30fc65115a66"
  },
  "kernelspec": {
   "display_name": "Python 3 (ipykernel)",
   "language": "python",
   "name": "python3"
  },
  "language_info": {
   "codemirror_mode": {
    "name": "ipython",
    "version": 3
   },
   "file_extension": ".py",
   "mimetype": "text/x-python",
   "name": "python",
   "nbconvert_exporter": "python",
   "pygments_lexer": "ipython3",
   "version": "3.8.13"
  }
 },
 "nbformat": 4,
 "nbformat_minor": 4
}
