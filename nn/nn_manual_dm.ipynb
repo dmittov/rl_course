{
 "cells": [
  {
   "cell_type": "code",
   "execution_count": null,
   "metadata": {},
   "outputs": [],
   "source": [
    "import torch\n",
    "from torchvision import datasets, transforms\n",
    "from torch.utils.data import DataLoader, Dataset\n",
    "from matplotlib import pyplot as plt\n",
    "from typing import List, Set\n",
    "import numpy as np\n",
    "from tqdm.notebook import tqdm\n",
    "from sklearn.metrics import accuracy_score, roc_auc_score\n",
    "from numpy_nn import *"
   ]
  },
  {
   "cell_type": "code",
   "execution_count": null,
   "metadata": {},
   "outputs": [],
   "source": [
    "Transform = transforms.ToTensor()\n",
    "data_train = datasets.MNIST(root=\"mnist\", train=True, download=True, transform=Transform)\n",
    "data_test = datasets.MNIST(root=\"mnist\", train=False, download=True, transform=Transform)"
   ]
  },
  {
   "cell_type": "code",
   "execution_count": null,
   "metadata": {},
   "outputs": [],
   "source": [
    "def make_reduced_dataset(dataset: Dataset, numbers: List[int]):\n",
    "    num2idx = {num: idx for idx, num in enumerate(numbers)}\n",
    "    num_set = set(numbers)\n",
    "    for img, y_true in dataset:\n",
    "        if y_true not in num_set:\n",
    "            continue\n",
    "        yield img, num2idx[y_true]\n",
    "        \n",
    "\n",
    "class ReducedMNIST(Dataset):\n",
    "    def __init__(self):\n",
    "        self.__imgs = []\n",
    "        self.__y_true = []\n",
    "    \n",
    "    def add(self, img, y_true):\n",
    "        self.__imgs.append(img)\n",
    "        self.__y_true.append(y_true)\n",
    "\n",
    "    def __len__(self):\n",
    "        return len(self.__y_true)\n",
    "\n",
    "    def __getitem__(self, idx):\n",
    "        return self.__imgs[idx], self.__y_true[idx]\n",
    "\n",
    "rdata_train = ReducedMNIST()\n",
    "rdata_test = ReducedMNIST()\n",
    "for img, y_true in make_reduced_dataset(data_train, [6, 9]):\n",
    "    rdata_train.add(img, y_true)\n",
    "for img, y_true in make_reduced_dataset(data_test, [6, 9]):\n",
    "    rdata_test.add(img, y_true)"
   ]
  },
  {
   "cell_type": "code",
   "execution_count": null,
   "metadata": {},
   "outputs": [],
   "source": [
    "train_ldr = DataLoader(rdata_train, batch_size=100, shuffle=True)\n",
    "test_ldr = DataLoader(rdata_test, batch_size=100, shuffle=True)"
   ]
  },
  {
   "cell_type": "code",
   "execution_count": null,
   "metadata": {},
   "outputs": [],
   "source": [
    "nn = Network()\n",
    "nn.add_layer(Linear(in_features=28*28, out_features=128))\n",
    "nn.add_layer(Sigmoid())\n",
    "nn.add_layer(Linear(in_features=128, out_features=84))\n",
    "nn.add_layer(Sigmoid())\n",
    "nn.add_layer(Linear(in_features=84, out_features=1))\n",
    "nn.add_layer(Sigmoid())\n",
    "\n",
    "optimizer = SGD(lr=1e-2, momentum=0.9, parameters=nn.parameters)"
   ]
  },
  {
   "cell_type": "code",
   "execution_count": null,
   "metadata": {},
   "outputs": [],
   "source": [
    "for epoch in range(1, 25):\n",
    "    for batch_img, batch_y_true in tqdm(train_ldr):\n",
    "        batch_img = torch.flatten(batch_img, start_dim=1)\n",
    "        batch_img = batch_img.numpy()\n",
    "        optimizer.zero_grad()\n",
    "        batch_predictions = nn.forward(batch_img).flatten()\n",
    "        batch_y_true = batch_y_true.float().numpy()\n",
    "        loss = LogLoss()\n",
    "        loss_value = loss.loss(batch_predictions, batch_y_true)\n",
    "        # grad error\n",
    "        error = loss.backward()\n",
    "        # !!! Discuss this\n",
    "        # error = (batch_y_true - batch_predictions)[:, np.newaxis]\n",
    "        nn.backward(error)\n",
    "        optimizer.step()\n",
    "    y_pred = []\n",
    "    y_true = []\n",
    "    for batch_img, batch_y_true in test_ldr:\n",
    "        batch_img = torch.flatten(batch_img, start_dim=1)\n",
    "        batch_img = batch_img.numpy()\n",
    "        y_true.extend(batch_y_true.numpy().tolist())\n",
    "        batch_predictions = nn.forward(batch_img).flatten()\n",
    "        y_pred.extend(batch_predictions.tolist())\n",
    "    print(f\"ROC AUC = {roc_auc_score(y_true, y_pred)}\")\n",
    "    print(f\"Accuracy = {accuracy_score(y_true, np.array(y_pred).round())}\")\n"
   ]
  }
 ],
 "metadata": {
  "kernelspec": {
   "display_name": "Python 3.9.4 ('pytorch')",
   "language": "python",
   "name": "python3"
  },
  "language_info": {
   "codemirror_mode": {
    "name": "ipython",
    "version": 3
   },
   "file_extension": ".py",
   "mimetype": "text/x-python",
   "name": "python",
   "nbconvert_exporter": "python",
   "pygments_lexer": "ipython3",
   "version": "3.9.4"
  },
  "orig_nbformat": 4,
  "vscode": {
   "interpreter": {
    "hash": "f5b916051ec391ef3c1c0123575e59cad2c35863d294dd079abc5845c0e5babb"
   }
  }
 },
 "nbformat": 4,
 "nbformat_minor": 2
}
