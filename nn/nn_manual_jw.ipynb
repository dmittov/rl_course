{
 "cells": [
  {
   "cell_type": "code",
   "execution_count": 182,
   "metadata": {},
   "outputs": [],
   "source": [
    "from torchvision import datasets, transforms\n",
    "from torch import nn\n",
    "from torch.utils.data import DataLoader, Dataset\n",
    "from matplotlib import pyplot as plt\n",
    "from typing import List, Set\n",
    "import numpy as np\n",
    "import torch\n",
    "from tqdm import tqdm"
   ]
  },
  {
   "cell_type": "code",
   "execution_count": 2,
   "metadata": {},
   "outputs": [],
   "source": [
    "Transform = transforms.ToTensor()\n",
    "data_train = datasets.MNIST(root=\"mnist\", train=True, download=True, transform=Transform)\n",
    "data_test = datasets.MNIST(root=\"mnist\", train=False, download=True, transform=Transform)"
   ]
  },
  {
   "cell_type": "code",
   "execution_count": 3,
   "metadata": {},
   "outputs": [],
   "source": [
    "img, y_true = data_train[0]"
   ]
  },
  {
   "cell_type": "code",
   "execution_count": 4,
   "metadata": {},
   "outputs": [
    {
     "data": {
      "text/plain": [
       "(1, 28, 28)"
      ]
     },
     "execution_count": 4,
     "metadata": {},
     "output_type": "execute_result"
    }
   ],
   "source": [
    "img.numpy().shape"
   ]
  },
  {
   "cell_type": "code",
   "execution_count": 5,
   "metadata": {},
   "outputs": [
    {
     "data": {
      "text/plain": [
       "<matplotlib.image.AxesImage at 0x7fe63038ed60>"
      ]
     },
     "execution_count": 5,
     "metadata": {},
     "output_type": "execute_result"
    },
    {
     "data": {
      "image/png": "[encoded data removed]",
      "text/plain": [
       "<Figure size 640x480 with 1 Axes>"
      ]
     },
     "metadata": {},
     "output_type": "display_data"
    }
   ],
   "source": [
    "plt.imshow(np.moveaxis(img.numpy(), [0, 1, 2], [2, 0, 1]), cmap=\"gray\")"
   ]
  },
  {
   "cell_type": "code",
   "execution_count": 6,
   "metadata": {},
   "outputs": [
    {
     "data": {
      "text/plain": [
       "5"
      ]
     },
     "execution_count": 6,
     "metadata": {},
     "output_type": "execute_result"
    }
   ],
   "source": [
    "y_true"
   ]
  },
  {
   "cell_type": "code",
   "execution_count": 7,
   "metadata": {},
   "outputs": [],
   "source": [
    "def make_reduced_dataset(dataset: Dataset, numbers: Set[int]):\n",
    "    num2idx = {num: idx for idx, num in enumerate(numbers)}\n",
    "    num_set = set(numbers)\n",
    "    for img, y_true in dataset:\n",
    "        if y_true not in num_set:\n",
    "            continue\n",
    "        yield num2idx[y_true], img\n",
    "        \n",
    "\n",
    "class ReducedMNIST(Dataset):\n",
    "    def __init__(self):\n",
    "        self.__imgs = []\n",
    "        self.__y_true = []\n",
    "    \n",
    "    def add(self, y_true, img):\n",
    "        self.__imgs.append(img)\n",
    "        self.__y_true.append(y_true)\n",
    "\n",
    "    def __len__(self):\n",
    "        return len(self.__y_true)\n",
    "\n",
    "    def __getitem__(self, idx):\n",
    "        return self.__imgs[idx], self.__y_true[idx]\n"
   ]
  },
  {
   "cell_type": "code",
   "execution_count": 8,
   "metadata": {},
   "outputs": [],
   "source": [
    "train_ldr = DataLoader(data_train, batch_size=100, shuffle=True)\n",
    "test_ldr = DataLoader(data_test, batch_size=100, shuffle=True)"
   ]
  },
  {
   "cell_type": "code",
   "execution_count": 140,
   "metadata": {},
   "outputs": [],
   "source": [
    "class Linear:\n",
    "    def __init__(self, in_features, out_features, learning_rate):\n",
    "        self.in_features = in_features\n",
    "        self.out_features = out_features\n",
    "        self.lr = learning_rate\n",
    "        self.w = np.random.randn(out_features, in_features)*0.1\n",
    "        self.b = np.random.randn(out_features, 1)*0.1\n",
    "        \n",
    "    def forward(self, X):\n",
    "        self.inp = X\n",
    "        shape_x = X.shape\n",
    "        res = np.dot(self.w, X)\n",
    "        res = res.flatten()\n",
    "        res = res.reshape((self.out_features, shape_x[1]))\n",
    "        self.out = res + self.b\n",
    "        return self.out\n",
    "\n",
    "    def adjust_w(self, dw):\n",
    "        self.w + self.lr * dw\n",
    "    \n",
    "    def adjust_b(self, db):\n",
    "        self.b + self.lr * db\n",
    "        \n",
    "    def backward(self, X, y, activation_derivative):\n",
    "        pass\n",
    "    \n",
    "    \n",
    "class ReLU:\n",
    "    def forward(self, X):\n",
    "        X[X <= 0] = 0\n",
    "        self.out = X\n",
    "        return X\n",
    "\n",
    "    def backward(self):\n",
    "        der = (self.out > 0).astype(int)\n",
    "        return der\n",
    "\n",
    "class Sigmoid:\n",
    "    def forward(self, z):\n",
    "        res = 1/(1+np.exp(-z))\n",
    "        self.out = res[0]\n",
    "        return self.out\n",
    "    \n",
    "    def backward(self, y):\n",
    "        return self.out - y\n",
    "    "
   ]
  },
  {
   "cell_type": "code",
   "execution_count": 141,
   "metadata": {},
   "outputs": [],
   "source": [
    "class PyTorchMLP():\n",
    "\n",
    "    def __init__(self, lr):\n",
    "        self.layers = [\n",
    "            Linear(in_features=28*28, out_features=128, learning_rate=lr),\n",
    "            ReLU(),\n",
    "            Linear(in_features=128, out_features=84, learning_rate=lr),\n",
    "            ReLU(),\n",
    "            Linear(in_features=84, out_features=1, learning_rate=lr),\n",
    "            Sigmoid()\n",
    "        ]\n",
    "        \n",
    "    def forward(self, X):\n",
    "        out = X\n",
    "        for layer in self.layers:\n",
    "            out = layer.forward(out)\n",
    "        return out\n",
    "    \n",
    "    def backward(self, y, y_hat):\n",
    "        # linear layer 3\n",
    "        error = y_hat - y\n",
    "        output = self.layers[4].out\n",
    "        Z = error * self.layers[4].inp\n",
    "        \n",
    "        \n",
    "        \n",
    "        "
   ]
  },
  {
   "cell_type": "raw",
   "metadata": {},
   "source": [
    "help(nn.ReLU)"
   ]
  },
  {
   "cell_type": "code",
   "execution_count": 199,
   "metadata": {},
   "outputs": [],
   "source": [
    "train_set = make_reduced_dataset(data_train, (6,9))"
   ]
  },
  {
   "cell_type": "code",
   "execution_count": 200,
   "metadata": {},
   "outputs": [],
   "source": [
    "net = PyTorchMLP(lr=0.1)"
   ]
  },
  {
   "cell_type": "code",
   "execution_count": 201,
   "metadata": {},
   "outputs": [
    {
     "name": "stderr",
     "output_type": "stream",
     "text": [
      "11867it [00:07, 1521.53it/s]\n"
     ]
    }
   ],
   "source": [
    "\n",
    "for y, test_input in tqdm(train_set):\n",
    "    y_hat = net.forward(test_input.flatten().numpy().reshape((784,1)))\n",
    "\n",
    "    error_prop = y_hat - y\n",
    "    # linear layer 3\n",
    "    error = error_prop\n",
    "    activation = 1\n",
    "    inp = net.layers[4].inp\n",
    "    dw = np.dot(np.dot(error, activation), inp.T)\n",
    "    db = error\n",
    "    error_prop = np.dot(net.layers[4].w.T , error)\n",
    "    net.layers[4].adjust_w(dw)\n",
    "    net.layers[4].adjust_b(db)\n",
    "\n",
    "    # linear layer 2\n",
    "    error = error_prop\n",
    "    activation = net.layers[3].backward()\n",
    "    inp = net.layers[2].inp\n",
    "    dw = np.dot(np.dot(error, activation), inp.T)\n",
    "    db = error\n",
    "    error_prop = np.dot(net.layers[2].w.T , error)\n",
    "    net.layers[2].adjust_w(dw)\n",
    "    net.layers[2].adjust_b(db)\n",
    "\n",
    "    # linear layer 1\n",
    "    error = error_prop\n",
    "    activation = net.layers[1].backward()\n",
    "    inp = net.layers[0].inp\n",
    "    dw = np.dot(np.dot(error, activation), inp.T)\n",
    "    db = error\n",
    "    error_prop = np.dot(net.layers[0].w.T , error)\n",
    "    net.layers[0].adjust_w(dw)\n",
    "    net.layers[0].adjust_b(db)"
   ]
  },
  {
   "cell_type": "code",
   "execution_count": 173,
   "metadata": {},
   "outputs": [
    {
     "data": {
      "text/plain": [
       "2"
      ]
     },
     "execution_count": 173,
     "metadata": {},
     "output_type": "execute_result"
    }
   ],
   "source": []
  },
  {
   "cell_type": "code",
   "execution_count": 205,
   "metadata": {},
   "outputs": [],
   "source": [
    "y_hat = []\n",
    "y_true = []\n",
    "for i, (y, test_input) in enumerate(make_reduced_dataset(data_train, (6,9))):\n",
    "    y_hat.append(net.forward(test_input.flatten().numpy().reshape((784,1))))\n",
    "    y_true.append(y)\n",
    "    if i >= 100:\n",
    "        break"
   ]
  },
  {
   "cell_type": "code",
   "execution_count": 209,
   "metadata": {},
   "outputs": [
    {
     "data": {
      "text/plain": [
       "0.33663366336633666"
      ]
     },
     "execution_count": 209,
     "metadata": {},
     "output_type": "execute_result"
    }
   ],
   "source": [
    "from sklearn.metrics import accuracy_score\n",
    "accuracy_score(y_true, np.round(y_hat))"
   ]
  },
  {
   "cell_type": "code",
   "execution_count": null,
   "metadata": {},
   "outputs": [],
   "source": []
  }
 ],
 "metadata": {
  "kernelspec": {
   "display_name": "Python 3 (ipykernel)",
   "language": "python",
   "name": "python3"
  },
  "language_info": {
   "codemirror_mode": {
    "name": "ipython",
    "version": 3
   },
   "file_extension": ".py",
   "mimetype": "text/x-python",
   "name": "python",
   "nbconvert_exporter": "python",
   "pygments_lexer": "ipython3",
   "version": "3.9.12"
  },
  "vscode": {
   "interpreter": {
    "hash": "f5b916051ec391ef3c1c0123575e59cad2c35863d294dd079abc5845c0e5babb"
   }
  }
 },
 "nbformat": 4,
 "nbformat_minor": 4
}
