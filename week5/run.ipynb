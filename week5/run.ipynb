{
 "cells": [
  {
   "cell_type": "code",
   "execution_count": null,
   "metadata": {},
   "outputs": [],
   "source": [
    "%load_ext autoreload\n",
    "%autoreload 2"
   ]
  },
  {
   "cell_type": "code",
   "execution_count": null,
   "metadata": {},
   "outputs": [],
   "source": [
    "import gym\n",
    "from matplotlib import pyplot as plt\n",
    "import itertools\n",
    "from agents import *\n",
    "from wrappers import *\n",
    "from trainers import *\n",
    "from tqdm.notebook import tqdm"
   ]
  },
  {
   "cell_type": "markdown",
   "metadata": {},
   "source": [
    "## Blackjack\n",
    "\n",
    "Play some episodes using a random policy"
   ]
  },
  {
   "cell_type": "code",
   "execution_count": null,
   "metadata": {},
   "outputs": [],
   "source": [
    "env = gym.make(\"Blackjack-v1\")\n",
    "discretizer = BlackjackDiscretizer()\n",
    "discrete_env = DiscreteWrapper(env, discretizer)\n",
    "\n",
    "behavioral_policy = np.array([[0.5, 0.5] for _ in range(discretizer.n_states)])\n",
    "\n",
    "agent = BlackjackOffPolicyMCAgent(behavioral_policy)\n",
    "\n",
    "test_episodes = 1_000\n",
    "episode_rewards = []\n",
    "rewards = 0.\n",
    "for _ in tqdm(range(test_episodes)):\n",
    "    state = discrete_env.reset()\n",
    "    for step in itertools.count():\n",
    "        action = agent.behavioral_act(state)   \n",
    "        state, reward, is_done, _ = discrete_env.step(action)\n",
    "        rewards += reward\n",
    "        if is_done:\n",
    "            break    \n",
    "rewards /= test_episodes\n",
    "print(f\"Average reward = {rewards}\")"
   ]
  },
  {
   "cell_type": "markdown",
   "metadata": {},
   "source": [
    "Use random policy and learn a better one wiht Monte Carlo Off-policy control"
   ]
  },
  {
   "cell_type": "code",
   "execution_count": null,
   "metadata": {},
   "outputs": [],
   "source": [
    "env = gym.make(\"Blackjack-v1\")\n",
    "discretizer = BlackjackDiscretizer()\n",
    "discrete_env = DiscreteWrapper(env, discretizer)\n",
    "\n",
    "behavioral_policy = np.array([[0.5, 0.5] for _ in range(discretizer.n_states)])\n",
    "\n",
    "agent = BlackjackOffPolicyMCAgent(behavioral_policy)\n",
    "discrete_env = ActionLogger(discrete_env)\n",
    "trainer = MCControlTrainer(gamma=1.0)\n",
    "\n",
    "test_episodes = 1_000\n",
    "episode_rewards = []\n",
    "changed_states = set()\n",
    "for episode in tqdm(range(10_000)):\n",
    "    state = discrete_env.reset()\n",
    "    episode_reward = 0.\n",
    "    for step in itertools.count():\n",
    "        action = agent.behavioral_act(state)\n",
    "        state, reward, is_done, _ = discrete_env.step(action)\n",
    "        episode_reward += reward\n",
    "        if is_done:\n",
    "            break  \n",
    "    changed_states |= trainer.update(agent, discrete_env.log)\n",
    "    episode_rewards.append(episode_reward)\n",
    "\n",
    "    if episode % 1_000 == 0:\n",
    "        rewards = 0.\n",
    "        print(f\"States changed: {len(changed_states)}\")\n",
    "        changed_states = set()\n",
    "        for _ in range(test_episodes):\n",
    "            state = discrete_env.reset()\n",
    "            for step in itertools.count():\n",
    "                prev_state = state\n",
    "                action = agent.act(state)   \n",
    "                state, reward, is_done, _ = discrete_env.step(action)\n",
    "                rewards += reward\n",
    "                if is_done:\n",
    "                    break    \n",
    "        rewards /= test_episodes\n",
    "        print(f\"After {episode} episodes average reward = {rewards}\")"
   ]
  },
  {
   "cell_type": "markdown",
   "metadata": {},
   "source": [
    "It works, let's try to apply the same approach to a more complicated game.\n",
    "\n",
    "## Montain Car"
   ]
  },
  {
   "cell_type": "code",
   "execution_count": null,
   "metadata": {},
   "outputs": [],
   "source": [
    "env = gym.make(\"MountainCar-v0\")\n",
    "state = env.reset()\n",
    "\n",
    "frame = env.render(mode=\"rgb_array\")\n",
    "plt.imshow(frame)"
   ]
  },
  {
   "cell_type": "markdown",
   "metadata": {},
   "source": [
    "[Environment page](https://gym.openai.com/envs/MountainCar-v0/)\n",
    "\n",
    "[Environment description](https://github.com/openai/gym/wiki/MountainCar-v0)\n",
    "\n",
    "[Environment implementation](https://github.com/openai/gym/blob/master/gym/envs/classic_control/mountain_car.py)\n",
    "\n",
    "First number: position in the range from -1.2 to 0.6\n",
    "\n",
    "Second number: velocity from -0.7 to 0.7\n",
    "\n",
    "Actions:\n",
    "* 0 - accelerate left\n",
    "* 1 - don't accelerate\n",
    "* 2 - accelerate right"
   ]
  },
  {
   "cell_type": "code",
   "execution_count": null,
   "metadata": {},
   "outputs": [],
   "source": [
    "state"
   ]
  },
  {
   "cell_type": "code",
   "execution_count": null,
   "metadata": {},
   "outputs": [],
   "source": [
    "type(env)"
   ]
  },
  {
   "cell_type": "code",
   "execution_count": null,
   "metadata": {},
   "outputs": [],
   "source": [
    "def play_once(env: gym.Env, agent: BaseAgent, render: bool=False, verbose: bool=False) -> float:\n",
    "    state = env.reset()\n",
    "    episode_reward = 0.\n",
    "    log = []\n",
    "    for step in itertools.count():\n",
    "        if render:\n",
    "            env.render()\n",
    "        prev_state = state\n",
    "        action = agent.act(state)\n",
    "        state, reward, is_done, _ = env.step(action)\n",
    "        record = (reward, prev_state, action)\n",
    "        log.append(record)\n",
    "        episode_reward += reward\n",
    "        if is_done:\n",
    "            break\n",
    "    if verbose:\n",
    "        print('get {} rewards in {} steps'.format(\n",
    "                episode_reward, step + 1))\n",
    "    return episode_reward, log"
   ]
  },
  {
   "cell_type": "markdown",
   "metadata": {},
   "source": [
    "We'll use a good external policy."
   ]
  },
  {
   "cell_type": "code",
   "execution_count": null,
   "metadata": {},
   "outputs": [],
   "source": [
    "agent = OrininalSmartAgent()\n",
    "reward, _ = play_once(env, agent, render=True)\n",
    "reward"
   ]
  },
  {
   "cell_type": "markdown",
   "metadata": {},
   "source": [
    "It's deterministic and doesn't ensure coverage of the random target policy, let's introduce some random noise inside and make sure it still can finish the game"
   ]
  },
  {
   "cell_type": "code",
   "execution_count": null,
   "metadata": {},
   "outputs": [],
   "source": [
    "env = gym.make(\"MountainCar-v0\")\n",
    "discretizer = MountainCarDiscretizer(20, 20)\n",
    "discrete_env = DiscreteWrapper(env, discretizer)\n",
    "agent = OrininalSmartAgent()\n",
    "discrete_policy = get_discrete_policy(discretizer, agent, eps=0.)\n",
    "\n",
    "agent = DisceteSmartAgent(discretizer.n_states, discrete_policy)\n",
    "reward, _ = play_once(discrete_env, agent, render=True)\n",
    "reward"
   ]
  },
  {
   "cell_type": "code",
   "execution_count": null,
   "metadata": {},
   "outputs": [],
   "source": [
    "env = gym.make(\"MountainCar-v0\")\n",
    "\n",
    "discretizer = MountainCarDiscretizer(20, 20)\n",
    "discrete_env = DiscreteWrapper(env, discretizer)\n",
    "\n",
    "behavioral_agent = OrininalSmartAgent()\n",
    "behavioral_policy = get_discrete_policy(discretizer, behavioral_agent, eps=0.1)\n",
    "\n",
    "agent = MountainCarOffPolicyMCAgent(behavioral_policy)\n",
    "discrete_env = ActionLogger(DiscreteWrapper(env, discretizer))\n",
    "trainer = MCControlTrainer(gamma=1.0)\n",
    "\n",
    "test_episodes = 100\n",
    "episode_rewards = []\n",
    "changed_states = set()\n",
    "for episode in tqdm(range(10_000)):\n",
    "    state = discrete_env.reset()\n",
    "    episode_reward = 0.\n",
    "    for step in itertools.count():\n",
    "        action = agent.behavioral_act(state)\n",
    "        state, reward, is_done, _ = discrete_env.step(action)\n",
    "        episode_reward += reward\n",
    "        if is_done:\n",
    "            break  \n",
    "    changed_states |= trainer.update(agent, discrete_env.log)\n",
    "    episode_rewards.append(episode_reward)\n",
    "\n",
    "    if episode % 1_000 == 0:\n",
    "        rewards = 0.\n",
    "        print(f\"States changed: {len(changed_states)}\")\n",
    "        changed_states = set()\n",
    "        for _ in range(test_episodes):\n",
    "            state = discrete_env.reset()\n",
    "            for step in itertools.count():\n",
    "                prev_state = state\n",
    "                action = agent.act(state)   \n",
    "                state, reward, is_done, _ = discrete_env.step(action)\n",
    "                rewards += reward\n",
    "                if is_done:\n",
    "                    break    \n",
    "        rewards /= test_episodes\n",
    "        print(f\"After {episode} episodes average reward = {rewards}\")\n",
    "        print((np.argmax(agent.action_values, axis=1) == np.argmax(agent.behavioral_policy, axis=1)).mean())"
   ]
  },
  {
   "cell_type": "markdown",
   "metadata": {},
   "source": [
    "No luck, most games don't lead to the target policy updates, let's try random behavioral policy"
   ]
  },
  {
   "cell_type": "code",
   "execution_count": null,
   "metadata": {},
   "outputs": [],
   "source": [
    "env = gym.make(\"MountainCar-v0\")\n",
    "\n",
    "discretizer = MountainCarDiscretizer(20, 20)\n",
    "discrete_env = DiscreteWrapper(env, discretizer)\n",
    "\n",
    "behavioral_policy = [[1./3, 1./3, 1./3] for _ in range(discretizer.n_states)]\n",
    "\n",
    "agent = MountainCarOffPolicyMCAgent(behavioral_policy)\n",
    "discrete_env = ActionLogger(DiscreteWrapper(env, discretizer))\n",
    "trainer = MCControlTrainer(gamma=1.0)\n",
    "\n",
    "test_episodes = 100\n",
    "episode_rewards = []\n",
    "changed_states = set()\n",
    "for episode in tqdm(range(10_000)):\n",
    "    state = discrete_env.reset()\n",
    "    episode_reward = 0.\n",
    "    for step in itertools.count():\n",
    "        action = agent.behavioral_act(state)\n",
    "        state, reward, is_done, _ = discrete_env.step(action)\n",
    "        episode_reward += reward\n",
    "        if is_done:\n",
    "            break  \n",
    "    changed_states |= trainer.update(agent, discrete_env.log)\n",
    "    episode_rewards.append(episode_reward)\n",
    "\n",
    "    if episode % 1_000 == 0:\n",
    "        rewards = 0.\n",
    "        print(f\"States changed: {len(changed_states)}\")\n",
    "        changed_states = set()\n",
    "        for _ in range(test_episodes):\n",
    "            state = discrete_env.reset()\n",
    "            for step in itertools.count():\n",
    "                prev_state = state\n",
    "                action = agent.act(state)   \n",
    "                state, reward, is_done, _ = discrete_env.step(action)\n",
    "                rewards += reward\n",
    "                if is_done:\n",
    "                    break    \n",
    "        rewards /= test_episodes\n",
    "        print(f\"After {episode} episodes average reward = {rewards}\")\n",
    "        print((np.argmax(agent.action_values, axis=1) == np.argmax(agent.behavioral_policy, axis=1)).mean())"
   ]
  },
  {
   "cell_type": "code",
   "execution_count": null,
   "metadata": {},
   "outputs": [],
   "source": [
    "env = gym.make(\"MountainCar-v0\")\n",
    "\n",
    "discretizer = MountainCarDiscretizer(20, 20)\n",
    "discrete_env = DiscreteWrapper(env, discretizer)\n",
    "\n",
    "behavioral_policy = [[1./3, 1./3, 1./3] for _ in range(discretizer.n_states)]\n",
    "\n",
    "agent = MountainCarOffPolicyMCAgent(behavioral_policy)\n",
    "discrete_env = ActionLogger(DiscreteWrapper(env, discretizer))\n",
    "trainer = MCControlTrainer(gamma=1.0)\n",
    "\n",
    "test_episodes = 100\n",
    "episode_rewards = []\n",
    "changed_states = set()\n",
    "for episode in tqdm(range(100_000)):\n",
    "    state = discrete_env.reset()\n",
    "    episode_reward = 0.\n",
    "    for step in itertools.count():\n",
    "        action = agent.behavioral_act(state)\n",
    "        state, reward, is_done, _ = discrete_env.step(action)\n",
    "        episode_reward += reward\n",
    "        if is_done:\n",
    "            break  \n",
    "    changed_states |= trainer.update(agent, discrete_env.log)\n",
    "    episode_rewards.append(episode_reward)\n",
    "\n",
    "    if episode % 10_000 == 0:\n",
    "        rewards = 0.\n",
    "        print(f\"States changed: {len(changed_states)}\")\n",
    "        changed_states = set()\n",
    "        for _ in range(test_episodes):\n",
    "            state = discrete_env.reset()\n",
    "            for step in itertools.count():\n",
    "                prev_state = state\n",
    "                action = agent.act(state)   \n",
    "                state, reward, is_done, _ = discrete_env.step(action)\n",
    "                rewards += reward\n",
    "                if is_done:\n",
    "                    break    \n",
    "        rewards /= test_episodes\n",
    "        print(f\"After {episode} episodes average reward = {rewards}\")\n",
    "        print((np.argmax(agent.action_values, axis=1) == np.argmax(agent.behavioral_policy, axis=1)).mean())"
   ]
  },
  {
   "cell_type": "markdown",
   "metadata": {},
   "source": [
    "Still no luck."
   ]
  }
 ],
 "metadata": {
  "interpreter": {
   "hash": "bb600975c6357ddc7b48bdb3cfcde47b204021eef5f9509c604aad70066fe75c"
  },
  "kernelspec": {
   "display_name": "Python 3",
   "language": "python",
   "name": "python3"
  },
  "language_info": {
   "codemirror_mode": {
    "name": "ipython",
    "version": 3
   },
   "file_extension": ".py",
   "mimetype": "text/x-python",
   "name": "python",
   "nbconvert_exporter": "python",
   "pygments_lexer": "ipython3",
   "version": "3.10.4"
  }
 },
 "nbformat": 4,
 "nbformat_minor": 2
}
