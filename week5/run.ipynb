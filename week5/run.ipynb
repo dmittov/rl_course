{
 "cells": [
  {
   "cell_type": "code",
   "execution_count": 1,
   "metadata": {},
   "outputs": [],
   "source": [
    "%load_ext autoreload\n",
    "%autoreload 2"
   ]
  },
  {
   "cell_type": "code",
   "execution_count": 6,
   "metadata": {},
   "outputs": [],
   "source": [
    "import gym\n",
    "from matplotlib import pyplot as plt\n",
    "import itertools\n",
    "from agents import *\n",
    "from tqdm.notebook import tqdm"
   ]
  },
  {
   "cell_type": "code",
   "execution_count": 7,
   "metadata": {},
   "outputs": [
    {
     "data": {
      "text/plain": [
       "<matplotlib.image.AxesImage at 0x112fa70a0>"
      ]
     },
     "execution_count": 7,
     "metadata": {},
     "output_type": "execute_result"
    },
    {
     "data": {
      "image/png": "[encoded data removed]",
      "text/plain": [
       "<Figure size 432x288 with 1 Axes>"
      ]
     },
     "metadata": {
      "needs_background": "light"
     },
     "output_type": "display_data"
    }
   ],
   "source": [
    "env = gym.make(\"MountainCar-v0\")\n",
    "state = env.reset()\n",
    "\n",
    "frame = env.render(mode=\"rgb_array\")\n",
    "plt.imshow(frame)"
   ]
  },
  {
   "cell_type": "markdown",
   "metadata": {},
   "source": [
    "[Environment page](https://gym.openai.com/envs/MountainCar-v0/)\n",
    "\n",
    "[Environment description](https://github.com/openai/gym/wiki/MountainCar-v0)\n",
    "\n",
    "[Environment implementation](https://github.com/openai/gym/blob/master/gym/envs/classic_control/mountain_car.py)\n",
    "\n",
    "First number: position in the range from -1.2 to 0.6\n",
    "\n",
    "Second number: velocity from -0.7 to 0.7\n",
    "\n",
    "Actions:\n",
    "* 0 - accelerate left\n",
    "* 1 - don't accelerate\n",
    "* 2 - accelerate right"
   ]
  },
  {
   "cell_type": "code",
   "execution_count": 8,
   "metadata": {},
   "outputs": [
    {
     "data": {
      "text/plain": [
       "array([-0.41780877,  0.        ], dtype=float32)"
      ]
     },
     "execution_count": 8,
     "metadata": {},
     "output_type": "execute_result"
    }
   ],
   "source": [
    "state"
   ]
  },
  {
   "cell_type": "code",
   "execution_count": 9,
   "metadata": {},
   "outputs": [
    {
     "data": {
      "text/plain": [
       "gym.wrappers.time_limit.TimeLimit"
      ]
     },
     "execution_count": 9,
     "metadata": {},
     "output_type": "execute_result"
    }
   ],
   "source": [
    "type(env)"
   ]
  },
  {
   "cell_type": "code",
   "execution_count": 15,
   "metadata": {},
   "outputs": [],
   "source": [
    "def play_once(env: gym.Env, agent: BaseAgent, render: bool=False, verbose: bool=False) -> float:\n",
    "    state = env.reset()\n",
    "    episode_reward = 0.\n",
    "    log = []\n",
    "    for step in itertools.count():\n",
    "        if render:\n",
    "            env.render()\n",
    "        prev_state = state\n",
    "        action = agent.act(state)\n",
    "        state, reward, is_done, _ = env.step(action)\n",
    "        record = (reward, prev_state, action)\n",
    "        log.append(record)\n",
    "        episode_reward += reward\n",
    "        if is_done:\n",
    "            break\n",
    "    if verbose:\n",
    "        print('get {} rewards in {} steps'.format(\n",
    "                episode_reward, step + 1))\n",
    "    return episode_reward, log"
   ]
  },
  {
   "cell_type": "code",
   "execution_count": 16,
   "metadata": {},
   "outputs": [
    {
     "data": {
      "text/plain": [
       "-93.0"
      ]
     },
     "execution_count": 16,
     "metadata": {},
     "output_type": "execute_result"
    }
   ],
   "source": [
    "agent = OrininalSmartAgent()\n",
    "reward, _ = play_once(env, agent, render=True)\n",
    "reward"
   ]
  },
  {
   "cell_type": "code",
   "execution_count": 12,
   "metadata": {},
   "outputs": [],
   "source": [
    "discretizer = Discretizer(20, 20)\n",
    "discrete_env = DiscreteWrapper(env, discretizer)\n",
    "discrete_policy = get_discrete_policy(discretizer, agent, eps=0.)"
   ]
  },
  {
   "cell_type": "code",
   "execution_count": 13,
   "metadata": {},
   "outputs": [
    {
     "data": {
      "text/plain": [
       "-107.0"
      ]
     },
     "execution_count": 13,
     "metadata": {},
     "output_type": "execute_result"
    }
   ],
   "source": [
    "agent = DisceteSmartAgent(discretizer.n_states, discrete_policy)\n",
    "reward, _ = play_once(discrete_env, agent, render=True)\n",
    "reward"
   ]
  },
  {
   "cell_type": "code",
   "execution_count": 14,
   "metadata": {},
   "outputs": [
    {
     "data": {
      "application/vnd.jupyter.widget-view+json": {
       "model_id": "64eaed42e15b48b8a194afdfb10c49ac",
       "version_major": 2,
       "version_minor": 0
      },
      "text/plain": [
       "  0%|          | 0/100 [00:00<?, ?it/s]"
      ]
     },
     "metadata": {},
     "output_type": "display_data"
    }
   ],
   "source": [
    "agent = OffPolicyMCAgent(discretizer.n_states, discrete_policy)\n",
    "test_episodes = 100\n",
    "for episode in tqdm(range(10_000)):\n",
    "    state = env.reset()\n",
    "    log = []\n",
    "    for step in itertools.count():\n",
    "        prev_state = state\n",
    "        action = agent.act(state)\n",
    "        state, reward, is_done, _ = env.step(action)\n",
    "        record = (reward, prev_state, action)\n",
    "        log.append(record)\n",
    "        if is_done:\n",
    "            break    \n",
    "    agent.update(log)\n",
    "    agent.compute_policy()\n",
    "\n",
    "    if episode % 1_000 == 0:\n",
    "        rewards = 0.\n",
    "        for _ in range(test_episodes):\n",
    "            for step in itertools.count():\n",
    "                prev_state = state\n",
    "                action = agent.act(state)\n",
    "                state, reward, is_done, _ = env.step(action)\n",
    "                rewards += reward\n",
    "                if is_done:\n",
    "                    break    \n",
    "\n",
    "            rewards += reward\n",
    "        rewards /= test_episodes\n",
    "        print(f\"After {episode} episodes average reward = {rewards}\")\n",
    "\n",
    "    \n"
   ]
  },
  {
   "cell_type": "code",
   "execution_count": null,
   "metadata": {},
   "outputs": [],
   "source": []
  }
 ],
 "metadata": {
  "interpreter": {
   "hash": "bb600975c6357ddc7b48bdb3cfcde47b204021eef5f9509c604aad70066fe75c"
  },
  "kernelspec": {
   "display_name": "Python 3",
   "language": "python",
   "name": "python3"
  },
  "language_info": {
   "codemirror_mode": {
    "name": "ipython",
    "version": 3
   },
   "file_extension": ".py",
   "mimetype": "text/x-python",
   "name": "python",
   "nbconvert_exporter": "python",
   "pygments_lexer": "ipython3",
   "version": "3.10.4"
  }
 },
 "nbformat": 4,
 "nbformat_minor": 2
}
