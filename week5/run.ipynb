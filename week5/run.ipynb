{
 "cells": [
  {
   "cell_type": "code",
   "execution_count": 1,
   "metadata": {},
   "outputs": [],
   "source": [
    "%load_ext autoreload\n",
    "%autoreload 2"
   ]
  },
  {
   "cell_type": "code",
   "execution_count": 81,
   "metadata": {},
   "outputs": [],
   "source": [
    "import gym\n",
    "from matplotlib import pyplot as plt\n",
    "import itertools\n",
    "from agents import *\n",
    "from wrappers import *\n",
    "from trainers import *\n",
    "from tqdm.notebook import tqdm"
   ]
  },
  {
   "cell_type": "code",
   "execution_count": 3,
   "metadata": {},
   "outputs": [
    {
     "data": {
      "text/plain": [
       "<matplotlib.image.AxesImage at 0x140afda50>"
      ]
     },
     "execution_count": 3,
     "metadata": {},
     "output_type": "execute_result"
    },
    {
     "data": {
      "image/png": "[encoded data removed]",
      "text/plain": [
       "<Figure size 432x288 with 1 Axes>"
      ]
     },
     "metadata": {
      "needs_background": "light"
     },
     "output_type": "display_data"
    }
   ],
   "source": [
    "env = gym.make(\"MountainCar-v0\")\n",
    "state = env.reset()\n",
    "\n",
    "frame = env.render(mode=\"rgb_array\")\n",
    "plt.imshow(frame)"
   ]
  },
  {
   "cell_type": "markdown",
   "metadata": {},
   "source": [
    "[Environment page](https://gym.openai.com/envs/MountainCar-v0/)\n",
    "\n",
    "[Environment description](https://github.com/openai/gym/wiki/MountainCar-v0)\n",
    "\n",
    "[Environment implementation](https://github.com/openai/gym/blob/master/gym/envs/classic_control/mountain_car.py)\n",
    "\n",
    "First number: position in the range from -1.2 to 0.6\n",
    "\n",
    "Second number: velocity from -0.7 to 0.7\n",
    "\n",
    "Actions:\n",
    "* 0 - accelerate left\n",
    "* 1 - don't accelerate\n",
    "* 2 - accelerate right"
   ]
  },
  {
   "cell_type": "code",
   "execution_count": 4,
   "metadata": {},
   "outputs": [
    {
     "data": {
      "text/plain": [
       "array([-0.41404328,  0.        ], dtype=float32)"
      ]
     },
     "execution_count": 4,
     "metadata": {},
     "output_type": "execute_result"
    }
   ],
   "source": [
    "state"
   ]
  },
  {
   "cell_type": "code",
   "execution_count": 5,
   "metadata": {},
   "outputs": [
    {
     "data": {
      "text/plain": [
       "gym.wrappers.time_limit.TimeLimit"
      ]
     },
     "execution_count": 5,
     "metadata": {},
     "output_type": "execute_result"
    }
   ],
   "source": [
    "type(env)"
   ]
  },
  {
   "cell_type": "code",
   "execution_count": 6,
   "metadata": {},
   "outputs": [],
   "source": [
    "def play_once(env: gym.Env, agent: BaseAgent, render: bool=False, verbose: bool=False) -> float:\n",
    "    state = env.reset()\n",
    "    episode_reward = 0.\n",
    "    log = []\n",
    "    for step in itertools.count():\n",
    "        if render:\n",
    "            env.render()\n",
    "        prev_state = state\n",
    "        action = agent.act(state)\n",
    "        state, reward, is_done, _ = env.step(action)\n",
    "        record = (reward, prev_state, action)\n",
    "        log.append(record)\n",
    "        episode_reward += reward\n",
    "        if is_done:\n",
    "            break\n",
    "    if verbose:\n",
    "        print('get {} rewards in {} steps'.format(\n",
    "                episode_reward, step + 1))\n",
    "    return episode_reward, log"
   ]
  },
  {
   "cell_type": "code",
   "execution_count": 7,
   "metadata": {},
   "outputs": [
    {
     "data": {
      "text/plain": [
       "-103.0"
      ]
     },
     "execution_count": 7,
     "metadata": {},
     "output_type": "execute_result"
    }
   ],
   "source": [
    "agent = OrininalSmartAgent()\n",
    "reward, _ = play_once(env, agent, render=True)\n",
    "reward"
   ]
  },
  {
   "cell_type": "code",
   "execution_count": 58,
   "metadata": {},
   "outputs": [
    {
     "data": {
      "text/plain": [
       "-85.0"
      ]
     },
     "execution_count": 58,
     "metadata": {},
     "output_type": "execute_result"
    }
   ],
   "source": [
    "env = gym.make(\"MountainCar-v0\")\n",
    "discretizer = MountainCarDiscretizer(20, 20)\n",
    "discrete_env = DiscreteWrapper(env, discretizer)\n",
    "agent = OrininalSmartAgent()\n",
    "discrete_policy = get_discrete_policy(discretizer, agent, eps=0.)\n",
    "\n",
    "agent = DisceteSmartAgent(discretizer.n_states, discrete_policy)\n",
    "reward, _ = play_once(discrete_env, agent, render=True)\n",
    "reward"
   ]
  },
  {
   "cell_type": "code",
   "execution_count": 13,
   "metadata": {},
   "outputs": [
    {
     "data": {
      "text/plain": [
       "-119.0"
      ]
     },
     "execution_count": 13,
     "metadata": {},
     "output_type": "execute_result"
    }
   ],
   "source": [
    "agent = OrininalSmartAgent()\n",
    "discrete_env = DiscreteWrapper(env, discretizer)\n",
    "discrete_policy = get_discrete_policy(discretizer, agent, eps=0.1)\n",
    "agent = DisceteSmartAgent(discretizer.n_states, discrete_policy)\n",
    "reward, _ = play_once(discrete_env, agent, render=True)\n",
    "reward"
   ]
  },
  {
   "cell_type": "code",
   "execution_count": 73,
   "metadata": {},
   "outputs": [
    {
     "data": {
      "text/plain": [
       "(335, (15, 10, 0))"
      ]
     },
     "execution_count": 73,
     "metadata": {},
     "output_type": "execute_result"
    }
   ],
   "source": [
    "env = gym.make(\"Blackjack-v1\")\n",
    "discretizer = BlackjackDiscretizer()\n",
    "discrete_env = DiscreteWrapper(env, discretizer)\n",
    "state = discrete_env.reset()\n",
    "state, discretizer.restore(state)"
   ]
  },
  {
   "cell_type": "code",
   "execution_count": 21,
   "metadata": {},
   "outputs": [
    {
     "data": {
      "application/vnd.jupyter.widget-view+json": {
       "model_id": "70da1878fc1e41cbab9d0b0c1bb5deb5",
       "version_major": 2,
       "version_minor": 0
      },
      "text/plain": [
       "  0%|          | 0/10000 [00:00<?, ?it/s]"
      ]
     },
     "metadata": {},
     "output_type": "display_data"
    },
    {
     "name": "stdout",
     "output_type": "stream",
     "text": [
      "States changed: 0\n",
      "After 0 episodes average reward = -200.0\n",
      "0.635\n",
      "States changed: 5\n",
      "After 1000 episodes average reward = -200.0\n",
      "0.635\n",
      "States changed: 0\n",
      "After 2000 episodes average reward = -200.0\n",
      "0.635\n",
      "States changed: 0\n",
      "After 3000 episodes average reward = -200.0\n",
      "0.635\n",
      "States changed: 0\n",
      "After 4000 episodes average reward = -200.0\n",
      "0.635\n",
      "States changed: 0\n",
      "After 5000 episodes average reward = -200.0\n",
      "0.635\n",
      "States changed: 1\n",
      "After 6000 episodes average reward = -200.0\n",
      "0.6325\n",
      "States changed: 0\n",
      "After 7000 episodes average reward = -200.0\n",
      "0.6325\n",
      "States changed: 1\n",
      "After 8000 episodes average reward = -200.0\n",
      "0.63\n",
      "States changed: 0\n",
      "After 9000 episodes average reward = -200.0\n",
      "0.63\n"
     ]
    }
   ],
   "source": [
    "behavioral_agent = OrininalSmartAgent()\n",
    "behavioral_policy = get_discrete_policy(discretizer, behavioral_agent, eps=0.1)\n",
    "\n",
    "agent = OffPolicyMCAgent(discretizer.n_states, behavioral_policy)\n",
    "discrete_env = ActionLogger(DiscreteWrapper(env, discretizer))\n",
    "trainer = MCControlTrainer(gamma=1.0)\n",
    "\n",
    "test_episodes = 100\n",
    "episode_rewards = []\n",
    "changed_states = set()\n",
    "for episode in tqdm(range(10_000)):\n",
    "    state = discrete_env.reset()\n",
    "    episode_reward = 0.\n",
    "    for step in itertools.count():\n",
    "        action = agent.behavioral_act(state)\n",
    "        state, reward, is_done, _ = discrete_env.step(action)\n",
    "        episode_reward += reward\n",
    "        if is_done:\n",
    "            break  \n",
    "    changed_states |= trainer.update(agent, discrete_env.log)\n",
    "    episode_rewards.append(episode_reward)\n",
    "\n",
    "    if episode % 1_000 == 0:\n",
    "        rewards = 0.\n",
    "        print(f\"States changed: {len(changed_states)}\")\n",
    "        changed_states = set()\n",
    "        for _ in range(test_episodes):\n",
    "            state = discrete_env.reset()\n",
    "            for step in itertools.count():\n",
    "                prev_state = state\n",
    "                action = agent.act(state)   \n",
    "                state, reward, is_done, _ = discrete_env.step(action)\n",
    "                rewards += reward\n",
    "                if is_done:\n",
    "                    break    \n",
    "        rewards /= test_episodes\n",
    "        print(f\"After {episode} episodes average reward = {rewards}\")\n",
    "        print((np.argmax(agent.action_values, axis=1) == np.argmax(agent.behavioral_policy, axis=1)).mean())\n",
    "\n",
    "    \n"
   ]
  },
  {
   "cell_type": "code",
   "execution_count": 75,
   "metadata": {},
   "outputs": [
    {
     "data": {
      "text/plain": [
       "360"
      ]
     },
     "execution_count": 75,
     "metadata": {},
     "output_type": "execute_result"
    }
   ],
   "source": [
    "discretizer.n_states"
   ]
  },
  {
   "cell_type": "code",
   "execution_count": 79,
   "metadata": {},
   "outputs": [
    {
     "ename": "TypeError",
     "evalue": "'Discrete' object is not iterable",
     "output_type": "error",
     "traceback": [
      "\u001b[0;31m---------------------------------------------------------------------------\u001b[0m",
      "\u001b[0;31mTypeError\u001b[0m                                 Traceback (most recent call last)",
      "Input \u001b[0;32mIn [79]\u001b[0m, in \u001b[0;36m<cell line: 1>\u001b[0;34m()\u001b[0m\n\u001b[0;32m----> 1\u001b[0m \u001b[39mlist\u001b[39;49m(discrete_env\u001b[39m.\u001b[39;49maction_space)\n",
      "\u001b[0;31mTypeError\u001b[0m: 'Discrete' object is not iterable"
     ]
    }
   ],
   "source": [
    "discrete_env.action_space"
   ]
  },
  {
   "cell_type": "code",
   "execution_count": 85,
   "metadata": {},
   "outputs": [
    {
     "data": {
      "application/vnd.jupyter.widget-view+json": {
       "model_id": "6776c6584ef448e4a74ef94b849659e6",
       "version_major": 2,
       "version_minor": 0
      },
      "text/plain": [
       "  0%|          | 0/10000 [00:00<?, ?it/s]"
      ]
     },
     "metadata": {},
     "output_type": "display_data"
    },
    {
     "name": "stdout",
     "output_type": "stream",
     "text": [
      "States changed: 1\n",
      "After 0 episodes average reward = -0.22\n",
      "0.9972222222222222\n",
      "States changed: 98\n",
      "After 1000 episodes average reward = -0.09\n",
      "0.8138888888888889\n",
      "States changed: 38\n",
      "After 2000 episodes average reward = -0.14\n",
      "0.7638888888888888\n",
      "States changed: 27\n",
      "After 3000 episodes average reward = -0.04\n",
      "0.7694444444444445\n",
      "States changed: 23\n",
      "After 4000 episodes average reward = 0.08\n",
      "0.7361111111111112\n",
      "States changed: 17\n",
      "After 5000 episodes average reward = -0.06\n",
      "0.7194444444444444\n",
      "States changed: 18\n",
      "After 6000 episodes average reward = -0.14\n",
      "0.6972222222222222\n",
      "States changed: 8\n",
      "After 7000 episodes average reward = 0.03\n",
      "0.6944444444444444\n",
      "States changed: 5\n",
      "After 8000 episodes average reward = -0.13\n",
      "0.6861111111111111\n",
      "States changed: 7\n",
      "After 9000 episodes average reward = -0.02\n",
      "0.6666666666666666\n"
     ]
    }
   ],
   "source": [
    "env = gym.make(\"Blackjack-v1\")\n",
    "discretizer = BlackjackDiscretizer()\n",
    "discrete_env = DiscreteWrapper(env, discretizer)\n",
    "\n",
    "behavioral_policy = np.array([[0.5, 0.5] for _ in range(discretizer.n_states)])\n",
    "\n",
    "agent = BlackjackOffPolicyMCAgent(discretizer.n_states, behavioral_policy)\n",
    "discrete_env = ActionLogger(discrete_env)\n",
    "trainer = MCControlTrainer(gamma=1.0)\n",
    "\n",
    "test_episodes = 100\n",
    "episode_rewards = []\n",
    "changed_states = set()\n",
    "for episode in tqdm(range(10_000)):\n",
    "    state = discrete_env.reset()\n",
    "    episode_reward = 0.\n",
    "    for step in itertools.count():\n",
    "        action = agent.behavioral_act(state)\n",
    "        state, reward, is_done, _ = discrete_env.step(action)\n",
    "        episode_reward += reward\n",
    "        if is_done:\n",
    "            break  \n",
    "    changed_states |= trainer.update(agent, discrete_env.log)\n",
    "    episode_rewards.append(episode_reward)\n",
    "\n",
    "    if episode % 1_000 == 0:\n",
    "        rewards = 0.\n",
    "        print(f\"States changed: {len(changed_states)}\")\n",
    "        changed_states = set()\n",
    "        for _ in range(test_episodes):\n",
    "            state = discrete_env.reset()\n",
    "            for step in itertools.count():\n",
    "                prev_state = state\n",
    "                action = agent.act(state)   \n",
    "                state, reward, is_done, _ = discrete_env.step(action)\n",
    "                rewards += reward\n",
    "                if is_done:\n",
    "                    break    \n",
    "        rewards /= test_episodes\n",
    "        print(f\"After {episode} episodes average reward = {rewards}\")\n",
    "\n",
    "    \n"
   ]
  },
  {
   "cell_type": "code",
   "execution_count": 27,
   "metadata": {},
   "outputs": [
    {
     "data": {
      "text/plain": [
       "(17, 2, False)"
      ]
     },
     "execution_count": 27,
     "metadata": {},
     "output_type": "execute_result"
    }
   ],
   "source": [
    "BlackjackDiscretizer\n",
    "env.reset()"
   ]
  },
  {
   "cell_type": "code",
   "execution_count": 69,
   "metadata": {},
   "outputs": [
    {
     "data": {
      "application/vnd.jupyter.widget-view+json": {
       "model_id": "26aff8051b964c9996a2bf485e0041cb",
       "version_major": 2,
       "version_minor": 0
      },
      "text/plain": [
       "  0%|          | 0/100000 [00:00<?, ?it/s]"
      ]
     },
     "metadata": {},
     "output_type": "display_data"
    },
    {
     "data": {
      "text/plain": [
       "{1, 2, 3, 4, 5, 6, 7, 8, 9, 10}"
      ]
     },
     "execution_count": 69,
     "metadata": {},
     "output_type": "execute_result"
    }
   ],
   "source": [
    "env = gym.make(\"Blackjack-v1\")\n",
    "pvs = set()\n",
    "for _ in tqdm(range(100_000)):\n",
    "    pv, dv, has_ace = env.reset()\n",
    "    pvs.add(dv)\n",
    "pvs"
   ]
  },
  {
   "cell_type": "code",
   "execution_count": 65,
   "metadata": {},
   "outputs": [
    {
     "name": "stderr",
     "output_type": "stream",
     "text": [
      "[autoreload of wrappers failed: Traceback (most recent call last):\n",
      "  File \"/Users/dmitry/opt/anaconda3/envs/week5/lib/python3.10/site-packages/IPython/extensions/autoreload.py\", line 257, in check\n",
      "    superreload(m, reload, self.old_objects)\n",
      "  File \"/Users/dmitry/opt/anaconda3/envs/week5/lib/python3.10/site-packages/IPython/extensions/autoreload.py\", line 455, in superreload\n",
      "    module = reload(module)\n",
      "  File \"/Users/dmitry/opt/anaconda3/envs/week5/lib/python3.10/importlib/__init__.py\", line 169, in reload\n",
      "    _bootstrap._exec(spec, module)\n",
      "  File \"<frozen importlib._bootstrap>\", line 619, in _exec\n",
      "  File \"<frozen importlib._bootstrap_external>\", line 883, in exec_module\n",
      "  File \"<frozen importlib._bootstrap>\", line 241, in _call_with_frames_removed\n",
      "  File \"/Users/dmitry/Documents/rl_course/week5/wrappers.py\", line 26, in <module>\n",
      "    class BlackjackDiscretizer(BaseDiscretizer):\n",
      "  File \"/Users/dmitry/Documents/rl_course/week5/wrappers.py\", line 32, in BlackjackDiscretizer\n",
      "    Tuple(Discrete(32), Discrete(11), Discrete(2))\n",
      "NameError: name 'Discrete' is not defined\n",
      "]\n"
     ]
    },
    {
     "data": {
      "text/plain": [
       "(15, 10, False)"
      ]
     },
     "execution_count": 65,
     "metadata": {},
     "output_type": "execute_result"
    }
   ],
   "source": [
    "env.reset()"
   ]
  },
  {
   "cell_type": "code",
   "execution_count": 28,
   "metadata": {},
   "outputs": [
    {
     "ename": "ValueError",
     "evalue": "not enough values to unpack (expected 4, got 3)",
     "output_type": "error",
     "traceback": [
      "\u001b[0;31m---------------------------------------------------------------------------\u001b[0m",
      "\u001b[0;31mValueError\u001b[0m                                Traceback (most recent call last)",
      "Input \u001b[0;32mIn [28]\u001b[0m, in \u001b[0;36m<cell line: 1>\u001b[0;34m()\u001b[0m\n\u001b[0;32m----> 1\u001b[0m state, reward, is_done, info \u001b[39m=\u001b[39m env\u001b[39m.\u001b[39mreset()\n",
      "\u001b[0;31mValueError\u001b[0m: not enough values to unpack (expected 4, got 3)"
     ]
    }
   ],
   "source": [
    "state, reward, is_done, info = env.reset()"
   ]
  },
  {
   "cell_type": "code",
   "execution_count": 19,
   "metadata": {},
   "outputs": [
    {
     "name": "stdout",
     "output_type": "stream",
     "text": [
      "0\n",
      "[-43.   0.   0.]\n"
     ]
    }
   ],
   "source": [
    "for state in range(400):\n",
    "    if np.all(agent.action_values[state] != [1, 1, 1]):\n",
    "        print(state)\n",
    "        print(agent.action_values[state])\n",
    "        break\n"
   ]
  },
  {
   "cell_type": "code",
   "execution_count": 28,
   "metadata": {},
   "outputs": [
    {
     "data": {
      "text/plain": [
       "array([-44.,   0.,   0.])"
      ]
     },
     "execution_count": 28,
     "metadata": {},
     "output_type": "execute_result"
    }
   ],
   "source": [
    "agent.action_values[0]"
   ]
  },
  {
   "cell_type": "code",
   "execution_count": 29,
   "metadata": {},
   "outputs": [
    {
     "data": {
      "text/plain": [
       "array([0.9 , 0.05, 0.05])"
      ]
     },
     "execution_count": 29,
     "metadata": {},
     "output_type": "execute_result"
    }
   ],
   "source": [
    "agent.behavioral_policy[0]"
   ]
  },
  {
   "cell_type": "code",
   "execution_count": 38,
   "metadata": {},
   "outputs": [
    {
     "data": {
      "text/plain": [
       "0.6275"
      ]
     },
     "execution_count": 38,
     "metadata": {},
     "output_type": "execute_result"
    }
   ],
   "source": [
    "(np.argmax(agent.action_values, axis=1) == np.argmax(agent.behavioral_policy, axis=1)).mean()"
   ]
  },
  {
   "cell_type": "code",
   "execution_count": 41,
   "metadata": {},
   "outputs": [
    {
     "data": {
      "text/plain": [
       "array([0, 0, 0, 0, 0, 0, 0, 0, 0, 0, 0, 0, 0, 0, 0, 0, 0, 0, 0, 0, 0, 0,\n",
       "       0, 0, 0, 0, 0, 0, 0, 0, 0, 0, 0, 0, 0, 0, 0, 0, 0, 0, 0, 0, 0, 0,\n",
       "       0, 0, 0, 0, 0, 0, 0, 0, 0, 0, 0, 0, 0, 0, 0, 0, 0, 0, 0, 0, 0, 0,\n",
       "       0, 0, 0, 0, 0, 0, 0, 0, 0, 0, 0, 0, 0, 0, 0, 0, 0, 0, 0, 0, 0, 0,\n",
       "       0, 0, 0, 0, 0, 0, 0, 0, 0, 0, 0, 0, 0, 0, 0, 0, 0, 0, 0, 0, 0, 0,\n",
       "       0, 0, 0, 0, 0, 0, 0, 0, 0, 0, 0, 0, 0, 0, 0, 0, 0, 0, 0, 0, 0, 0,\n",
       "       0, 0, 0, 0, 0, 0, 0, 0, 0, 0, 0, 0, 0, 0, 0, 0, 0, 0, 0, 0, 0, 0,\n",
       "       0, 0, 0, 0, 0, 0, 0, 0, 0, 0, 0, 0, 0, 0, 0, 0, 0, 0, 0, 0, 0, 0,\n",
       "       0, 0, 0, 0, 0, 0, 0, 0, 0, 0, 0, 0, 0, 0, 0, 0, 0, 0, 0, 0, 0, 0,\n",
       "       0, 0, 0, 0, 0, 0, 0, 0, 0, 0, 0, 0, 0, 0, 0, 0, 0, 0, 0, 0, 0, 0,\n",
       "       0, 0, 0, 0, 0, 0, 0, 0, 0, 0, 0, 0, 0, 0, 0, 0, 0, 0, 0, 0, 0, 0,\n",
       "       0, 0, 0, 0, 0, 0, 0, 0, 0, 0, 0, 0, 0, 0, 0, 0, 0, 0, 0, 0, 0, 0,\n",
       "       0, 0, 0, 0, 0, 0, 0, 0, 0, 0, 0, 0, 0, 0, 0, 0, 0, 0, 0, 0, 0, 0,\n",
       "       0, 0, 0, 0, 0, 0, 0, 0, 0, 0, 0, 0, 0, 0, 0, 0, 0, 0, 0, 0, 0, 0,\n",
       "       0, 0, 0, 0, 0, 0, 0, 0, 0, 1, 0, 0, 0, 0, 0, 0, 0, 0, 0, 0, 0, 0,\n",
       "       0, 0, 0, 0, 0, 0, 0, 1, 0, 0, 0, 0, 0, 0, 0, 0, 0, 0, 0, 0, 0, 0,\n",
       "       0, 0, 0, 2, 1, 0, 0, 0, 0, 0, 0, 0, 0, 0, 0, 0, 0, 0, 0, 0, 0, 0,\n",
       "       0, 0, 0, 0, 0, 0, 0, 0, 0, 0, 0, 0, 0, 0, 0, 0, 0, 0, 0, 0, 0, 0,\n",
       "       0, 0, 0, 0])"
      ]
     },
     "execution_count": 41,
     "metadata": {},
     "output_type": "execute_result"
    }
   ],
   "source": [
    "np.argmax(agent.action_values, axis=1)"
   ]
  },
  {
   "cell_type": "code",
   "execution_count": 39,
   "metadata": {},
   "outputs": [
    {
     "data": {
      "text/plain": [
       "array([0, 0, 0, 2, 2, 2, 2, 2, 2, 2, 2, 2, 2, 2, 0, 0, 0, 0, 0, 0, 0, 0,\n",
       "       0, 0, 0, 2, 2, 2, 2, 2, 2, 2, 2, 2, 2, 0, 0, 0, 0, 0, 0, 0, 0, 0,\n",
       "       0, 0, 0, 2, 2, 2, 2, 2, 2, 2, 2, 2, 0, 0, 0, 0, 0, 0, 0, 0, 0, 0,\n",
       "       0, 0, 0, 2, 2, 2, 2, 2, 2, 2, 2, 0, 0, 0, 0, 0, 0, 0, 0, 0, 0, 0,\n",
       "       0, 2, 2, 2, 2, 2, 2, 2, 2, 2, 0, 0, 0, 0, 0, 0, 0, 0, 0, 0, 0, 2,\n",
       "       2, 2, 2, 2, 2, 2, 2, 2, 2, 0, 0, 0, 0, 0, 0, 0, 0, 0, 0, 2, 2, 2,\n",
       "       2, 2, 2, 2, 2, 2, 2, 2, 0, 0, 0, 0, 0, 0, 0, 0, 0, 0, 2, 2, 2, 2,\n",
       "       2, 2, 2, 2, 2, 2, 0, 0, 0, 0, 0, 0, 0, 0, 0, 0, 0, 2, 2, 2, 2, 2,\n",
       "       2, 2, 2, 2, 0, 0, 0, 0, 0, 0, 0, 0, 0, 0, 0, 0, 2, 2, 2, 2, 2, 2,\n",
       "       2, 2, 0, 0, 0, 0, 0, 0, 0, 0, 0, 0, 0, 0, 0, 0, 0, 2, 2, 2, 2, 2,\n",
       "       0, 0, 0, 0, 0, 0, 0, 0, 0, 0, 0, 0, 0, 0, 0, 2, 2, 2, 2, 2, 0, 0,\n",
       "       0, 0, 0, 0, 0, 0, 0, 0, 0, 0, 0, 0, 0, 2, 2, 2, 2, 2, 0, 0, 0, 0,\n",
       "       0, 0, 0, 0, 0, 0, 0, 0, 0, 0, 2, 2, 2, 2, 2, 0, 0, 0, 0, 0, 0, 0,\n",
       "       0, 0, 0, 0, 0, 0, 0, 0, 2, 2, 2, 2, 2, 0, 0, 0, 0, 0, 0, 0, 0, 0,\n",
       "       0, 0, 0, 0, 0, 2, 2, 2, 2, 2, 0, 0, 0, 0, 0, 0, 0, 0, 0, 0, 0, 0,\n",
       "       0, 0, 2, 2, 2, 2, 2, 0, 0, 0, 0, 0, 0, 0, 0, 0, 0, 0, 0, 0, 2, 2,\n",
       "       2, 2, 2, 0, 0, 0, 0, 0, 0, 0, 0, 0, 0, 0, 0, 0, 0, 2, 2, 2, 2, 2,\n",
       "       0, 0, 0, 0, 0, 0, 0, 0, 0, 0, 0, 0, 0, 2, 2, 2, 2, 2, 2, 0, 0, 0,\n",
       "       0, 0, 0, 0])"
      ]
     },
     "execution_count": 39,
     "metadata": {},
     "output_type": "execute_result"
    }
   ],
   "source": [
    "np.argmax(agent.behavioral_policy, axis=1)"
   ]
  },
  {
   "cell_type": "code",
   "execution_count": 64,
   "metadata": {},
   "outputs": [
    {
     "data": {
      "text/plain": [
       "[<matplotlib.lines.Line2D at 0x14bb50160>]"
      ]
     },
     "execution_count": 64,
     "metadata": {},
     "output_type": "execute_result"
    },
    {
     "data": {
      "image/png": "[encoded data removed]",
      "text/plain": [
       "<Figure size 432x288 with 1 Axes>"
      ]
     },
     "metadata": {
      "needs_background": "light"
     },
     "output_type": "display_data"
    }
   ],
   "source": [
    "plt.plot(episode_rewards)"
   ]
  },
  {
   "cell_type": "code",
   "execution_count": null,
   "metadata": {},
   "outputs": [],
   "source": []
  }
 ],
 "metadata": {
  "interpreter": {
   "hash": "bb600975c6357ddc7b48bdb3cfcde47b204021eef5f9509c604aad70066fe75c"
  },
  "kernelspec": {
   "display_name": "Python 3",
   "language": "python",
   "name": "python3"
  },
  "language_info": {
   "codemirror_mode": {
    "name": "ipython",
    "version": 3
   },
   "file_extension": ".py",
   "mimetype": "text/x-python",
   "name": "python",
   "nbconvert_exporter": "python",
   "pygments_lexer": "ipython3",
   "version": "3.10.4"
  }
 },
 "nbformat": 4,
 "nbformat_minor": 2
}
